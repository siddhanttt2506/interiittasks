{
  "nbformat": 4,
  "nbformat_minor": 0,
  "metadata": {
    "colab": {
      "provenance": [],
      "gpuType": "T4"
    },
    "kernelspec": {
      "name": "python3",
      "display_name": "Python 3"
    },
    "language_info": {
      "name": "python"
    },
    "accelerator": "GPU"
  },
  "cells": [
    {
      "cell_type": "code",
      "execution_count": 1,
      "metadata": {
        "colab": {
          "base_uri": "https://localhost:8080/"
        },
        "id": "kA1NGaKlHHmN",
        "outputId": "993eb12d-73ff-4087-85e2-9a04399d8a8f"
      },
      "outputs": [
        {
          "output_type": "stream",
          "name": "stdout",
          "text": [
            "Requirement already satisfied: PyMuPDF in /usr/local/lib/python3.10/dist-packages (1.24.9)\n",
            "Requirement already satisfied: PyMuPDFb==1.24.9 in /usr/local/lib/python3.10/dist-packages (from PyMuPDF) (1.24.9)\n",
            "Requirement already satisfied: sentence-transformers in /usr/local/lib/python3.10/dist-packages (3.0.1)\n",
            "Requirement already satisfied: transformers<5.0.0,>=4.34.0 in /usr/local/lib/python3.10/dist-packages (from sentence-transformers) (4.42.4)\n",
            "Requirement already satisfied: tqdm in /usr/local/lib/python3.10/dist-packages (from sentence-transformers) (4.66.5)\n",
            "Requirement already satisfied: torch>=1.11.0 in /usr/local/lib/python3.10/dist-packages (from sentence-transformers) (2.4.0+cu121)\n",
            "Requirement already satisfied: numpy in /usr/local/lib/python3.10/dist-packages (from sentence-transformers) (1.26.4)\n",
            "Requirement already satisfied: scikit-learn in /usr/local/lib/python3.10/dist-packages (from sentence-transformers) (1.3.2)\n",
            "Requirement already satisfied: scipy in /usr/local/lib/python3.10/dist-packages (from sentence-transformers) (1.13.1)\n",
            "Requirement already satisfied: huggingface-hub>=0.15.1 in /usr/local/lib/python3.10/dist-packages (from sentence-transformers) (0.23.5)\n",
            "Requirement already satisfied: Pillow in /usr/local/lib/python3.10/dist-packages (from sentence-transformers) (9.4.0)\n",
            "Requirement already satisfied: filelock in /usr/local/lib/python3.10/dist-packages (from huggingface-hub>=0.15.1->sentence-transformers) (3.15.4)\n",
            "Requirement already satisfied: fsspec>=2023.5.0 in /usr/local/lib/python3.10/dist-packages (from huggingface-hub>=0.15.1->sentence-transformers) (2024.6.1)\n",
            "Requirement already satisfied: packaging>=20.9 in /usr/local/lib/python3.10/dist-packages (from huggingface-hub>=0.15.1->sentence-transformers) (24.1)\n",
            "Requirement already satisfied: pyyaml>=5.1 in /usr/local/lib/python3.10/dist-packages (from huggingface-hub>=0.15.1->sentence-transformers) (6.0.2)\n",
            "Requirement already satisfied: requests in /usr/local/lib/python3.10/dist-packages (from huggingface-hub>=0.15.1->sentence-transformers) (2.32.3)\n",
            "Requirement already satisfied: typing-extensions>=3.7.4.3 in /usr/local/lib/python3.10/dist-packages (from huggingface-hub>=0.15.1->sentence-transformers) (4.12.2)\n",
            "Requirement already satisfied: sympy in /usr/local/lib/python3.10/dist-packages (from torch>=1.11.0->sentence-transformers) (1.13.2)\n",
            "Requirement already satisfied: networkx in /usr/local/lib/python3.10/dist-packages (from torch>=1.11.0->sentence-transformers) (3.3)\n",
            "Requirement already satisfied: jinja2 in /usr/local/lib/python3.10/dist-packages (from torch>=1.11.0->sentence-transformers) (3.1.4)\n",
            "Requirement already satisfied: regex!=2019.12.17 in /usr/local/lib/python3.10/dist-packages (from transformers<5.0.0,>=4.34.0->sentence-transformers) (2024.5.15)\n",
            "Requirement already satisfied: safetensors>=0.4.1 in /usr/local/lib/python3.10/dist-packages (from transformers<5.0.0,>=4.34.0->sentence-transformers) (0.4.4)\n",
            "Requirement already satisfied: tokenizers<0.20,>=0.19 in /usr/local/lib/python3.10/dist-packages (from transformers<5.0.0,>=4.34.0->sentence-transformers) (0.19.1)\n",
            "Requirement already satisfied: joblib>=1.1.1 in /usr/local/lib/python3.10/dist-packages (from scikit-learn->sentence-transformers) (1.4.2)\n",
            "Requirement already satisfied: threadpoolctl>=2.0.0 in /usr/local/lib/python3.10/dist-packages (from scikit-learn->sentence-transformers) (3.5.0)\n",
            "Requirement already satisfied: MarkupSafe>=2.0 in /usr/local/lib/python3.10/dist-packages (from jinja2->torch>=1.11.0->sentence-transformers) (2.1.5)\n",
            "Requirement already satisfied: charset-normalizer<4,>=2 in /usr/local/lib/python3.10/dist-packages (from requests->huggingface-hub>=0.15.1->sentence-transformers) (3.3.2)\n",
            "Requirement already satisfied: idna<4,>=2.5 in /usr/local/lib/python3.10/dist-packages (from requests->huggingface-hub>=0.15.1->sentence-transformers) (3.8)\n",
            "Requirement already satisfied: urllib3<3,>=1.21.1 in /usr/local/lib/python3.10/dist-packages (from requests->huggingface-hub>=0.15.1->sentence-transformers) (2.0.7)\n",
            "Requirement already satisfied: certifi>=2017.4.17 in /usr/local/lib/python3.10/dist-packages (from requests->huggingface-hub>=0.15.1->sentence-transformers) (2024.7.4)\n",
            "Requirement already satisfied: mpmath<1.4,>=1.1.0 in /usr/local/lib/python3.10/dist-packages (from sympy->torch>=1.11.0->sentence-transformers) (1.3.0)\n",
            "Requirement already satisfied: scikit-learn in /usr/local/lib/python3.10/dist-packages (1.3.2)\n",
            "Requirement already satisfied: numpy<2.0,>=1.17.3 in /usr/local/lib/python3.10/dist-packages (from scikit-learn) (1.26.4)\n",
            "Requirement already satisfied: scipy>=1.5.0 in /usr/local/lib/python3.10/dist-packages (from scikit-learn) (1.13.1)\n",
            "Requirement already satisfied: joblib>=1.1.1 in /usr/local/lib/python3.10/dist-packages (from scikit-learn) (1.4.2)\n",
            "Requirement already satisfied: threadpoolctl>=2.0.0 in /usr/local/lib/python3.10/dist-packages (from scikit-learn) (3.5.0)\n"
          ]
        }
      ],
      "source": [
        "!pip install PyMuPDF\n",
        "!pip install sentence-transformers\n",
        "!pip install scikit-learn\n"
      ]
    },
    {
      "cell_type": "code",
      "source": [
        "import fitz\n",
        "import re\n",
        "import numpy as np\n",
        "import matplotlib.pyplot as plt\n",
        "from sklearn.metrics.pairwise import cosine_similarity\n",
        "from sklearn.neighbors import NearestNeighbors\n",
        "from sklearn.decomposition import PCA\n",
        "from sentence_transformers import SentenceTransformer, CrossEncoder"
      ],
      "metadata": {
        "colab": {
          "base_uri": "https://localhost:8080/"
        },
        "id": "_-HwQsP_HMBo",
        "outputId": "9ab88c84-1dc0-494d-daf1-35e60ff1306b"
      },
      "execution_count": 2,
      "outputs": [
        {
          "output_type": "stream",
          "name": "stderr",
          "text": [
            "/usr/local/lib/python3.10/dist-packages/sentence_transformers/cross_encoder/CrossEncoder.py:11: TqdmExperimentalWarning: Using `tqdm.autonotebook.tqdm` in notebook mode. Use `tqdm.tqdm` instead to force console mode (e.g. in jupyter console)\n",
            "  from tqdm.autonotebook import tqdm, trange\n"
          ]
        }
      ]
    },
    {
      "cell_type": "code",
      "source": [
        "embedding_model = SentenceTransformer('all-MiniLM-L6-v2')"
      ],
      "metadata": {
        "colab": {
          "base_uri": "https://localhost:8080/"
        },
        "id": "JiWVbmcjKAtZ",
        "outputId": "010c03f5-0d3e-49c5-e9d8-a4c9bc2b5e15"
      },
      "execution_count": 3,
      "outputs": [
        {
          "output_type": "stream",
          "name": "stderr",
          "text": [
            "/usr/local/lib/python3.10/dist-packages/huggingface_hub/utils/_token.py:89: UserWarning: \n",
            "The secret `HF_TOKEN` does not exist in your Colab secrets.\n",
            "To authenticate with the Hugging Face Hub, create a token in your settings tab (https://huggingface.co/settings/tokens), set it as secret in your Google Colab and restart your session.\n",
            "You will be able to reuse this secret in all of your notebooks.\n",
            "Please note that authentication is recommended but still optional to access public models or datasets.\n",
            "  warnings.warn(\n"
          ]
        }
      ]
    },
    {
      "cell_type": "code",
      "source": [
        "def extract_text_from_pdf(pdf_path):\n",
        "    doc = fitz.open(pdf_path)\n",
        "    text = \"\"\n",
        "    for page_num in range(doc.page_count):\n",
        "        page = doc.load_page(page_num)\n",
        "        text += page.get_text()\n",
        "    return text"
      ],
      "metadata": {
        "id": "ny9ZknEOKEEm"
      },
      "execution_count": 4,
      "outputs": []
    },
    {
      "cell_type": "code",
      "source": [
        "pdf_path = '/content/infi_cpntext.pdf'"
      ],
      "metadata": {
        "id": "D-w3X6tJKIYB"
      },
      "execution_count": 5,
      "outputs": []
    },
    {
      "cell_type": "code",
      "source": [
        "pdf_text = extract_text_from_pdf(pdf_path)"
      ],
      "metadata": {
        "id": "aA-lX34KKW-P"
      },
      "execution_count": 6,
      "outputs": []
    },
    {
      "cell_type": "code",
      "source": [
        "\n",
        "documents = re.split(r'\\n{2,}|\\.\\s|\\?\\s|\\!\\s', pdf_text)"
      ],
      "metadata": {
        "id": "HKhU_OBuKZjI"
      },
      "execution_count": 7,
      "outputs": []
    },
    {
      "cell_type": "code",
      "source": [
        "documents = [doc for doc in documents if doc.strip()]"
      ],
      "metadata": {
        "id": "tP2e6kpfLcE0"
      },
      "execution_count": 8,
      "outputs": []
    },
    {
      "cell_type": "code",
      "source": [
        "document_embeddings = embedding_model.encode(documents)\n"
      ],
      "metadata": {
        "id": "Ah-Pie1bLcgn"
      },
      "execution_count": 9,
      "outputs": []
    },
    {
      "cell_type": "code",
      "source": [
        "query = \"Explain the concept of Infini-attention.\"\n",
        "query_embedding = embedding_model.encode(query)"
      ],
      "metadata": {
        "id": "1wi2HO9cLgAu"
      },
      "execution_count": 10,
      "outputs": []
    },
    {
      "cell_type": "markdown",
      "source": [
        "## 1. Embedding-Based Retrieval"
      ],
      "metadata": {
        "id": "vfaPpY51LimO"
      }
    },
    {
      "cell_type": "code",
      "source": [
        "cosine_similarities = cosine_similarity([query_embedding], document_embeddings)[0]"
      ],
      "metadata": {
        "id": "I9i40wikLh-a"
      },
      "execution_count": 11,
      "outputs": []
    },
    {
      "cell_type": "code",
      "source": [
        "print(\"Documents ranked by similarity:\")\n",
        "sorted_indices = np.argsort(cosine_similarities)[::-1]\n",
        "for idx in sorted_indices[:5]:  # Display top 5 results\n",
        "    print(f\"Document: {documents[idx]}, Similarity: {cosine_similarities[idx]:.4f}\")"
      ],
      "metadata": {
        "colab": {
          "base_uri": "https://localhost:8080/"
        },
        "id": "PvcBvpNiLnG1",
        "outputId": "d4727773-f652-4a38-986d-abad6a48e851"
      },
      "execution_count": 12,
      "outputs": [
        {
          "output_type": "stream",
          "name": "stdout",
          "text": [
            "Documents ranked by similarity:\n",
            "Document: We call such an efficient attention mechanism\n",
            "Infini-attention, which is illustrated in Figure 1 and described formally in the following\n",
            "sections, Similarity: 0.8232\n",
            "Document: A key\n",
            "component in our proposed approach is a new attention technique dubbed Infini-attention\n",
            "(Figure 1), Similarity: 0.7686\n",
            "Document: 3.1\n",
            "Infini-attention\n",
            "As shown Figure 1, our Infini-attention is a recurrent attention mechanism that computes\n",
            "both local and global context states and combine them for its output, Similarity: 0.7220\n",
            "Document: A key component in our proposed approach is a new at-\n",
            "tention technique dubbed Infini-attention, Similarity: 0.7007\n",
            "Document: The Infini-attention incorporates a compressive memory into the vanilla attention\n",
            "mechanism (Bahdanau et al., 2014; Vaswani et al., 2017) and builds in both masked local\n",
            "attention and long-term linear attention mechanisms in a single Transformer block, Similarity: 0.6722\n"
          ]
        }
      ]
    },
    {
      "cell_type": "markdown",
      "source": [
        "# 2. Similarity Search with KNN using Matplotlib"
      ],
      "metadata": {
        "id": "WjjG4oiPM4V3"
      }
    },
    {
      "cell_type": "code",
      "source": [
        "nbrs = NearestNeighbors(n_neighbors=3, metric='cosine').fit(document_embeddings)\n",
        "distances, indices = nbrs.kneighbors([query_embedding])"
      ],
      "metadata": {
        "id": "VXjxKNHKLovh"
      },
      "execution_count": 13,
      "outputs": []
    },
    {
      "cell_type": "code",
      "source": [
        "retrieved_embeddings = document_embeddings[indices[0]]"
      ],
      "metadata": {
        "id": "IelWkfs1PlDT"
      },
      "execution_count": 14,
      "outputs": []
    },
    {
      "cell_type": "code",
      "source": [
        "pca = PCA(n_components=2)\n",
        "projected_dataset_embeddings = pca.fit_transform(document_embeddings)\n",
        "projected_query_embedding = pca.transform([query_embedding])\n",
        "projected_retrieved_embeddings = pca.transform(retrieved_embeddings)"
      ],
      "metadata": {
        "id": "gANiD5EGPq6H"
      },
      "execution_count": 15,
      "outputs": []
    },
    {
      "cell_type": "code",
      "source": [
        "plt.figure(figsize=(8, 6))\n",
        "plt.scatter(projected_dataset_embeddings[:, 0], projected_dataset_embeddings[:, 1], s=10, color='gray', label='Documents')\n",
        "plt.scatter(projected_query_embedding[:, 0], projected_query_embedding[:, 1], s=150, marker='X', color='red', label='Query')\n",
        "plt.scatter(projected_retrieved_embeddings[:, 0], projected_retrieved_embeddings[:, 1], s=100, facecolors='none', edgecolors='green', label='Retrieved')\n",
        "\n",
        "plt.gca().set_aspect('equal', 'datalim')\n",
        "plt.title(f'Embedding Space Visualization for Query: \"{query}\"')\n",
        "plt.legend()\n",
        "plt.axis('off')\n",
        "plt.show()"
      ],
      "metadata": {
        "colab": {
          "base_uri": "https://localhost:8080/",
          "height": 521
        },
        "id": "su7BTwXhM7G0",
        "outputId": "3c623210-4eb0-471f-9ad4-de9dc1a6cfc6"
      },
      "execution_count": 16,
      "outputs": [
        {
          "output_type": "display_data",
          "data": {
            "text/plain": [
              "<Figure size 800x600 with 1 Axes>"
            ],
            "image/png": "[encoded data removed]"
          },
          "metadata": {}
        }
      ]
    },
    {
      "cell_type": "markdown",
      "source": [
        "# 3. Query Expansion"
      ],
      "metadata": {
        "id": "SBgnVn3gNBdP"
      }
    },
    {
      "cell_type": "code",
      "source": [
        "expanded_query = \"Infini-attention mechanism in transformers\"\n",
        "expanded_query_embedding = embedding_model.encode(expanded_query)"
      ],
      "metadata": {
        "id": "574CbiMjM9Lb"
      },
      "execution_count": 17,
      "outputs": []
    },
    {
      "cell_type": "code",
      "source": [
        "expanded_cosine_similarities = cosine_similarity([expanded_query_embedding], document_embeddings)[0]"
      ],
      "metadata": {
        "id": "B0ZlrYHeNDg8"
      },
      "execution_count": 18,
      "outputs": []
    },
    {
      "cell_type": "code",
      "source": [
        "print(\"\\nExpanded Query Results:\")\n",
        "sorted_expanded_indices = np.argsort(expanded_cosine_similarities)[::-1]\n",
        "for idx in sorted_expanded_indices[:5]:  # Display top 5 results\n",
        "    print(f\"Document: {documents[idx]}, Similarity: {expanded_cosine_similarities[idx]:.4f}\")"
      ],
      "metadata": {
        "colab": {
          "base_uri": "https://localhost:8080/"
        },
        "id": "-Zz5nVT_NFiO",
        "outputId": "e91449ca-2e2b-42e7-b4b4-02823a2ec720"
      },
      "execution_count": 19,
      "outputs": [
        {
          "output_type": "stream",
          "name": "stdout",
          "text": [
            "\n",
            "Expanded Query Results:\n",
            "Document: The Infini-attention incorporates\n",
            "a compressive memory into the vanilla attention mechanism and builds\n",
            "in both masked local attention and long-term linear attention mechanisms\n",
            "in a single Transformer block, Similarity: 0.7868\n",
            "Document: The Infini-attention incorporates a compressive memory into the vanilla attention\n",
            "mechanism (Bahdanau et al., 2014; Vaswani et al., 2017) and builds in both masked local\n",
            "attention and long-term linear attention mechanisms in a single Transformer block, Similarity: 0.7792\n",
            "Document: So each attention layer of Infini-Transformers has both global\n",
            "compressive and local fine-grained states, Similarity: 0.7033\n",
            "Document: We call such an efficient attention mechanism\n",
            "Infini-attention, which is illustrated in Figure 1 and described formally in the following\n",
            "sections, Similarity: 0.6904\n",
            "Document: The attention mechanism in Transformers ex-\n",
            "hibits quadratic complexity in both memory\n",
            "footprint and computation time, Similarity: 0.6674\n"
          ]
        }
      ]
    },
    {
      "cell_type": "markdown",
      "source": [
        "# 4. Cross-Encoder Re-Ranking"
      ],
      "metadata": {
        "id": "UNLvz7-sNQ9S"
      }
    },
    {
      "cell_type": "code",
      "source": [
        "cross_encoder = CrossEncoder('cross-encoder/ms-marco-TinyBERT-L-6')"
      ],
      "metadata": {
        "id": "sT2rPDiNNH_x"
      },
      "execution_count": 20,
      "outputs": []
    },
    {
      "cell_type": "code",
      "source": [
        "cross_encoder_scores = cross_encoder.predict([[query, doc] for doc in documents])"
      ],
      "metadata": {
        "id": "wZiUTsVENVMs"
      },
      "execution_count": 21,
      "outputs": []
    },
    {
      "cell_type": "code",
      "source": [
        "print(\"\\nDocuments ranked by Cross-Encoder Re-Ranking:\")\n",
        "sorted_cross_encoder_indices = np.argsort(cross_encoder_scores)[::-1]\n",
        "for idx in sorted_cross_encoder_indices[:5]:  # Display top 5 results\n",
        "    print(f\"Document: {documents[idx]}, Score: {cross_encoder_scores[idx]:.4f}\")"
      ],
      "metadata": {
        "colab": {
          "base_uri": "https://localhost:8080/"
        },
        "id": "0VsZiX5BNXTW",
        "outputId": "77ae8efd-957c-4dc5-f492-e28f0e3a0dab"
      },
      "execution_count": 22,
      "outputs": [
        {
          "output_type": "stream",
          "name": "stdout",
          "text": [
            "\n",
            "Documents ranked by Cross-Encoder Re-Ranking:\n",
            "Document: Infini-attention introduces minimal change to the standard scaled dot-product atten-\n",
            "tion and supports plug-and-play continual pre-training and long-context adaptation\n",
            "by design, Score: 0.9715\n",
            "Document: The proposed Infini-attention addresses those issues by enabling a segment-\n",
            "level streaming computation over long sequences with a fixed local attention window, Score: 0.9676\n",
            "Document: The Infini-attention incorporates\n",
            "a compressive memory into the vanilla attention mechanism and builds\n",
            "in both masked local attention and long-term linear attention mechanisms\n",
            "in a single Transformer block, Score: 0.9510\n",
            "Document: 3.1\n",
            "Infini-attention\n",
            "As shown Figure 1, our Infini-attention is a recurrent attention mechanism that computes\n",
            "both local and global context states and combine them for its output, Score: 0.9250\n",
            "Document: Our Infini-attention reuses all the key, value and query states of the standard attention\n",
            "computation for long-term memory consolidation and retrieval, Score: 0.9111\n"
          ]
        }
      ]
    },
    {
      "cell_type": "markdown",
      "source": [
        "#Embedding Adapter"
      ],
      "metadata": {
        "id": "7ent5O-MRBDK"
      }
    },
    {
      "cell_type": "code",
      "source": [
        "import torch\n",
        "import torch.nn as nn"
      ],
      "metadata": {
        "id": "spycOUMJNaBC"
      },
      "execution_count": 23,
      "outputs": []
    },
    {
      "cell_type": "code",
      "source": [
        "embedding_model = SentenceTransformer('all-MiniLM-L6-v2')"
      ],
      "metadata": {
        "id": "SwQZ73MdTy-u"
      },
      "execution_count": 24,
      "outputs": []
    },
    {
      "cell_type": "code",
      "source": [
        "class EmbeddingAdapter(nn.Module):\n",
        "    def __init__(self, input_dim, output_dim):\n",
        "        super(EmbeddingAdapter, self).__init__()\n",
        "        self.adapter = nn.Linear(input_dim, output_dim)\n",
        "\n",
        "    def forward(self, x):\n",
        "        return self.adapter(x)"
      ],
      "metadata": {
        "id": "54Ov6YOcQ9zA"
      },
      "execution_count": 25,
      "outputs": []
    },
    {
      "cell_type": "code",
      "source": [
        "input_dim = 384  # Dimension of the 'all-MiniLM-L6-v2' embeddings\n",
        "output_dim = 384  # Output dimension can be the same or different\n",
        "embedding_adapter = EmbeddingAdapter(input_dim, output_dim)"
      ],
      "metadata": {
        "id": "C-YoO1IhRAhC"
      },
      "execution_count": 26,
      "outputs": []
    },
    {
      "cell_type": "code",
      "source": [
        "document_embeddings = embedding_model.encode(documents)\n",
        "query_embedding = embedding_model.encode(query)"
      ],
      "metadata": {
        "id": "MKPQDS_BTazT"
      },
      "execution_count": 27,
      "outputs": []
    },
    {
      "cell_type": "code",
      "source": [
        "document_embeddings_tensor = torch.tensor(document_embeddings)\n",
        "query_embedding_tensor = torch.tensor(query_embedding).unsqueeze(0)"
      ],
      "metadata": {
        "id": "-NkVpXiiRIhv"
      },
      "execution_count": 28,
      "outputs": []
    },
    {
      "cell_type": "code",
      "source": [
        "adapted_document_embeddings = embedding_adapter(document_embeddings_tensor)\n",
        "adapted_query_embedding = embedding_adapter(query_embedding_tensor)"
      ],
      "metadata": {
        "id": "SDJjovmJRLXM"
      },
      "execution_count": 29,
      "outputs": []
    },
    {
      "cell_type": "code",
      "source": [
        "adapted_document_embeddings_np = adapted_document_embeddings.detach().numpy()\n",
        "adapted_query_embedding_np = adapted_query_embedding.detach().numpy()"
      ],
      "metadata": {
        "id": "8tqozMClRNX4"
      },
      "execution_count": 30,
      "outputs": []
    },
    {
      "cell_type": "code",
      "source": [
        "pca = PCA(n_components=2)\n",
        "projected_dataset_embeddings = pca.fit_transform(document_embeddings)\n",
        "projected_query_embedding = pca.transform([query_embedding])\n",
        "projected_adapted_query_embedding = pca.transform(adapted_query_embedding_np)\n",
        "projected_adapted_document_embeddings = pca.transform(adapted_document_embeddings_np)"
      ],
      "metadata": {
        "id": "H_HEhIS3TLQF"
      },
      "execution_count": 31,
      "outputs": []
    },
    {
      "cell_type": "code",
      "source": [
        "plt.figure(figsize=(8, 6))\n",
        "plt.scatter(projected_dataset_embeddings[:, 0], projected_dataset_embeddings[:, 1], s=10, color='gray', label='Documents')\n",
        "plt.scatter(projected_query_embedding[:, 0], projected_query_embedding[:, 1], s=150, marker='X', color='red', label='Original Query')\n",
        "plt.scatter(projected_adapted_query_embedding[:, 0], projected_adapted_query_embedding[:, 1], s=150, marker='X', color='green', label='Adapted Query')\n",
        "\n",
        "plt.gca().set_aspect('equal', 'datalim')\n",
        "plt.title(\"Adapted Queries\")\n",
        "plt.axis('off')\n",
        "plt.legend()\n",
        "plt.show()"
      ],
      "metadata": {
        "colab": {
          "base_uri": "https://localhost:8080/",
          "height": 521
        },
        "id": "XUEjQTtpTjvn",
        "outputId": "f89b6dbf-d6dc-4eba-b7c7-03664d5063c8"
      },
      "execution_count": 32,
      "outputs": [
        {
          "output_type": "display_data",
          "data": {
            "text/plain": [
              "<Figure size 800x600 with 1 Axes>"
            ],
            "image/png": "[encoded data removed]"
          },
          "metadata": {}
        }
      ]
    }
  ]
}