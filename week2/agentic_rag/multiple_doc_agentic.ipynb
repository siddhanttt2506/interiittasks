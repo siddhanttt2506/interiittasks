{
  "nbformat": 4,
  "nbformat_minor": 0,
  "metadata": {
    "colab": {
      "provenance": []
    },
    "kernelspec": {
      "name": "python3",
      "display_name": "Python 3"
    },
    "language_info": {
      "name": "python"
    },
    "widgets": {
      "application/vnd.jupyter.widget-state+json": {
        "878eb61bdfb143ff8e7372624f9f8432": {
          "model_module": "@jupyter-widgets/controls",
          "model_name": "HBoxModel",
          "model_module_version": "1.5.0",
          "state": {
            "_dom_classes": [],
            "_model_module": "@jupyter-widgets/controls",
            "_model_module_version": "1.5.0",
            "_model_name": "HBoxModel",
            "_view_count": null,
            "_view_module": "@jupyter-widgets/controls",
            "_view_module_version": "1.5.0",
            "_view_name": "HBoxView",
            "box_style": "",
            "children": [
              "IPY_MODEL_9427dad333b3404a8252fa8a54f9dbae",
              "IPY_MODEL_ee72b8a3ab644c9f8d1f38a825033c8b",
              "IPY_MODEL_b87823daec314ff6a18f9a595baab05c"
            ],
            "layout": "IPY_MODEL_f7efedc283f34576921413280f21b5e8"
          }
        },
        "9427dad333b3404a8252fa8a54f9dbae": {
          "model_module": "@jupyter-widgets/controls",
          "model_name": "HTMLModel",
          "model_module_version": "1.5.0",
          "state": {
            "_dom_classes": [],
            "_model_module": "@jupyter-widgets/controls",
            "_model_module_version": "1.5.0",
            "_model_name": "HTMLModel",
            "_view_count": null,
            "_view_module": "@jupyter-widgets/controls",
            "_view_module_version": "1.5.0",
            "_view_name": "HTMLView",
            "description": "",
            "description_tooltip": null,
            "layout": "IPY_MODEL_035c94f6d4cc489694b289bb1423c527",
            "placeholder": "​",
            "style": "IPY_MODEL_a8541f8699864085b55e252a3d2ef6d1",
            "value": "Fetching 5 files: 100%"
          }
        },
        "ee72b8a3ab644c9f8d1f38a825033c8b": {
          "model_module": "@jupyter-widgets/controls",
          "model_name": "FloatProgressModel",
          "model_module_version": "1.5.0",
          "state": {
            "_dom_classes": [],
            "_model_module": "@jupyter-widgets/controls",
            "_model_module_version": "1.5.0",
            "_model_name": "FloatProgressModel",
            "_view_count": null,
            "_view_module": "@jupyter-widgets/controls",
            "_view_module_version": "1.5.0",
            "_view_name": "ProgressView",
            "bar_style": "success",
            "description": "",
            "description_tooltip": null,
            "layout": "IPY_MODEL_f33da84d133d48e7b3fbbf106c830867",
            "max": 5,
            "min": 0,
            "orientation": "horizontal",
            "style": "IPY_MODEL_3786350716b5408dbb4f605a87e1559d",
            "value": 5
          }
        },
        "b87823daec314ff6a18f9a595baab05c": {
          "model_module": "@jupyter-widgets/controls",
          "model_name": "HTMLModel",
          "model_module_version": "1.5.0",
          "state": {
            "_dom_classes": [],
            "_model_module": "@jupyter-widgets/controls",
            "_model_module_version": "1.5.0",
            "_model_name": "HTMLModel",
            "_view_count": null,
            "_view_module": "@jupyter-widgets/controls",
            "_view_module_version": "1.5.0",
            "_view_name": "HTMLView",
            "description": "",
            "description_tooltip": null,
            "layout": "IPY_MODEL_997a2145b0cc464fa2ac7c85a6c6648e",
            "placeholder": "​",
            "style": "IPY_MODEL_e057dce8389143968b25e916319de21a",
            "value": " 5/5 [00:00&lt;00:00, 92.44it/s]"
          }
        },
        "f7efedc283f34576921413280f21b5e8": {
          "model_module": "@jupyter-widgets/base",
          "model_name": "LayoutModel",
          "model_module_version": "1.2.0",
          "state": {
            "_model_module": "@jupyter-widgets/base",
            "_model_module_version": "1.2.0",
            "_model_name": "LayoutModel",
            "_view_count": null,
            "_view_module": "@jupyter-widgets/base",
            "_view_module_version": "1.2.0",
            "_view_name": "LayoutView",
            "align_content": null,
            "align_items": null,
            "align_self": null,
            "border": null,
            "bottom": null,
            "display": null,
            "flex": null,
            "flex_flow": null,
            "grid_area": null,
            "grid_auto_columns": null,
            "grid_auto_flow": null,
            "grid_auto_rows": null,
            "grid_column": null,
            "grid_gap": null,
            "grid_row": null,
            "grid_template_areas": null,
            "grid_template_columns": null,
            "grid_template_rows": null,
            "height": null,
            "justify_content": null,
            "justify_items": null,
            "left": null,
            "margin": null,
            "max_height": null,
            "max_width": null,
            "min_height": null,
            "min_width": null,
            "object_fit": null,
            "object_position": null,
            "order": null,
            "overflow": null,
            "overflow_x": null,
            "overflow_y": null,
            "padding": null,
            "right": null,
            "top": null,
            "visibility": null,
            "width": null
          }
        },
        "035c94f6d4cc489694b289bb1423c527": {
          "model_module": "@jupyter-widgets/base",
          "model_name": "LayoutModel",
          "model_module_version": "1.2.0",
          "state": {
            "_model_module": "@jupyter-widgets/base",
            "_model_module_version": "1.2.0",
            "_model_name": "LayoutModel",
            "_view_count": null,
            "_view_module": "@jupyter-widgets/base",
            "_view_module_version": "1.2.0",
            "_view_name": "LayoutView",
            "align_content": null,
            "align_items": null,
            "align_self": null,
            "border": null,
            "bottom": null,
            "display": null,
            "flex": null,
            "flex_flow": null,
            "grid_area": null,
            "grid_auto_columns": null,
            "grid_auto_flow": null,
            "grid_auto_rows": null,
            "grid_column": null,
            "grid_gap": null,
            "grid_row": null,
            "grid_template_areas": null,
            "grid_template_columns": null,
            "grid_template_rows": null,
            "height": null,
            "justify_content": null,
            "justify_items": null,
            "left": null,
            "margin": null,
            "max_height": null,
            "max_width": null,
            "min_height": null,
            "min_width": null,
            "object_fit": null,
            "object_position": null,
            "order": null,
            "overflow": null,
            "overflow_x": null,
            "overflow_y": null,
            "padding": null,
            "right": null,
            "top": null,
            "visibility": null,
            "width": null
          }
        },
        "a8541f8699864085b55e252a3d2ef6d1": {
          "model_module": "@jupyter-widgets/controls",
          "model_name": "DescriptionStyleModel",
          "model_module_version": "1.5.0",
          "state": {
            "_model_module": "@jupyter-widgets/controls",
            "_model_module_version": "1.5.0",
            "_model_name": "DescriptionStyleModel",
            "_view_count": null,
            "_view_module": "@jupyter-widgets/base",
            "_view_module_version": "1.2.0",
            "_view_name": "StyleView",
            "description_width": ""
          }
        },
        "f33da84d133d48e7b3fbbf106c830867": {
          "model_module": "@jupyter-widgets/base",
          "model_name": "LayoutModel",
          "model_module_version": "1.2.0",
          "state": {
            "_model_module": "@jupyter-widgets/base",
            "_model_module_version": "1.2.0",
            "_model_name": "LayoutModel",
            "_view_count": null,
            "_view_module": "@jupyter-widgets/base",
            "_view_module_version": "1.2.0",
            "_view_name": "LayoutView",
            "align_content": null,
            "align_items": null,
            "align_self": null,
            "border": null,
            "bottom": null,
            "display": null,
            "flex": null,
            "flex_flow": null,
            "grid_area": null,
            "grid_auto_columns": null,
            "grid_auto_flow": null,
            "grid_auto_rows": null,
            "grid_column": null,
            "grid_gap": null,
            "grid_row": null,
            "grid_template_areas": null,
            "grid_template_columns": null,
            "grid_template_rows": null,
            "height": null,
            "justify_content": null,
            "justify_items": null,
            "left": null,
            "margin": null,
            "max_height": null,
            "max_width": null,
            "min_height": null,
            "min_width": null,
            "object_fit": null,
            "object_position": null,
            "order": null,
            "overflow": null,
            "overflow_x": null,
            "overflow_y": null,
            "padding": null,
            "right": null,
            "top": null,
            "visibility": null,
            "width": null
          }
        },
        "3786350716b5408dbb4f605a87e1559d": {
          "model_module": "@jupyter-widgets/controls",
          "model_name": "ProgressStyleModel",
          "model_module_version": "1.5.0",
          "state": {
            "_model_module": "@jupyter-widgets/controls",
            "_model_module_version": "1.5.0",
            "_model_name": "ProgressStyleModel",
            "_view_count": null,
            "_view_module": "@jupyter-widgets/base",
            "_view_module_version": "1.2.0",
            "_view_name": "StyleView",
            "bar_color": null,
            "description_width": ""
          }
        },
        "997a2145b0cc464fa2ac7c85a6c6648e": {
          "model_module": "@jupyter-widgets/base",
          "model_name": "LayoutModel",
          "model_module_version": "1.2.0",
          "state": {
            "_model_module": "@jupyter-widgets/base",
            "_model_module_version": "1.2.0",
            "_model_name": "LayoutModel",
            "_view_count": null,
            "_view_module": "@jupyter-widgets/base",
            "_view_module_version": "1.2.0",
            "_view_name": "LayoutView",
            "align_content": null,
            "align_items": null,
            "align_self": null,
            "border": null,
            "bottom": null,
            "display": null,
            "flex": null,
            "flex_flow": null,
            "grid_area": null,
            "grid_auto_columns": null,
            "grid_auto_flow": null,
            "grid_auto_rows": null,
            "grid_column": null,
            "grid_gap": null,
            "grid_row": null,
            "grid_template_areas": null,
            "grid_template_columns": null,
            "grid_template_rows": null,
            "height": null,
            "justify_content": null,
            "justify_items": null,
            "left": null,
            "margin": null,
            "max_height": null,
            "max_width": null,
            "min_height": null,
            "min_width": null,
            "object_fit": null,
            "object_position": null,
            "order": null,
            "overflow": null,
            "overflow_x": null,
            "overflow_y": null,
            "padding": null,
            "right": null,
            "top": null,
            "visibility": null,
            "width": null
          }
        },
        "e057dce8389143968b25e916319de21a": {
          "model_module": "@jupyter-widgets/controls",
          "model_name": "DescriptionStyleModel",
          "model_module_version": "1.5.0",
          "state": {
            "_model_module": "@jupyter-widgets/controls",
            "_model_module_version": "1.5.0",
            "_model_name": "DescriptionStyleModel",
            "_view_count": null,
            "_view_module": "@jupyter-widgets/base",
            "_view_module_version": "1.2.0",
            "_view_name": "StyleView",
            "description_width": ""
          }
        }
      }
    }
  },
  "cells": [
    {
      "cell_type": "code",
      "execution_count": 1,
      "metadata": {
        "colab": {
          "base_uri": "https://localhost:8080/"
        },
        "id": "SmdOdUg-1bs-",
        "outputId": "f846de1a-24b1-46dd-cf40-2ca922d7844c"
      },
      "outputs": [
        {
          "output_type": "stream",
          "name": "stdout",
          "text": [
            "Requirement already satisfied: llama-index in /usr/local/lib/python3.10/dist-packages (from -r requirements.txt (line 1)) (0.11.11)\n",
            "Requirement already satisfied: llama-index-llms-huggingface in /usr/local/lib/python3.10/dist-packages (from -r requirements.txt (line 2)) (0.3.4)\n",
            "Requirement already satisfied: llama-index-embeddings-fastembed in /usr/local/lib/python3.10/dist-packages (from -r requirements.txt (line 3)) (0.2.0)\n",
            "Requirement already satisfied: fastembed in /usr/local/lib/python3.10/dist-packages (from -r requirements.txt (line 4)) (0.3.6)\n",
            "Requirement already satisfied: chromadb in /usr/local/lib/python3.10/dist-packages (from -r requirements.txt (line 6)) (0.5.7)\n",
            "Requirement already satisfied: llama-index-vector-stores-chroma in /usr/local/lib/python3.10/dist-packages (from -r requirements.txt (line 7)) (0.2.0)\n",
            "Requirement already satisfied: llama-index-llms-groq in /usr/local/lib/python3.10/dist-packages (from -r requirements.txt (line 8)) (0.2.0)\n",
            "Requirement already satisfied: einops in /usr/local/lib/python3.10/dist-packages (from -r requirements.txt (line 9)) (0.8.0)\n",
            "Requirement already satisfied: accelerate in /usr/local/lib/python3.10/dist-packages (from -r requirements.txt (line 10)) (0.34.2)\n",
            "Requirement already satisfied: sentence-transformers in /usr/local/lib/python3.10/dist-packages (from -r requirements.txt (line 11)) (3.1.1)\n",
            "Requirement already satisfied: llama-index-llms-mistralai in /usr/local/lib/python3.10/dist-packages (from -r requirements.txt (line 12)) (0.2.5)\n",
            "Requirement already satisfied: llama-index-llms-openai in /usr/local/lib/python3.10/dist-packages (from -r requirements.txt (line 13)) (0.2.9)\n",
            "Requirement already satisfied: Unstructured[md] in /usr/local/lib/python3.10/dist-packages (from -r requirements.txt (line 5)) (0.15.13)\n",
            "Requirement already satisfied: llama-index-agent-openai<0.4.0,>=0.3.4 in /usr/local/lib/python3.10/dist-packages (from llama-index->-r requirements.txt (line 1)) (0.3.4)\n",
            "Requirement already satisfied: llama-index-cli<0.4.0,>=0.3.1 in /usr/local/lib/python3.10/dist-packages (from llama-index->-r requirements.txt (line 1)) (0.3.1)\n",
            "Requirement already satisfied: llama-index-core<0.12.0,>=0.11.10 in /usr/local/lib/python3.10/dist-packages (from llama-index->-r requirements.txt (line 1)) (0.11.11)\n",
            "Requirement already satisfied: llama-index-embeddings-openai<0.3.0,>=0.2.4 in /usr/local/lib/python3.10/dist-packages (from llama-index->-r requirements.txt (line 1)) (0.2.5)\n",
            "Requirement already satisfied: llama-index-indices-managed-llama-cloud>=0.3.0 in /usr/local/lib/python3.10/dist-packages (from llama-index->-r requirements.txt (line 1)) (0.3.1)\n",
            "Requirement already satisfied: llama-index-legacy<0.10.0,>=0.9.48 in /usr/local/lib/python3.10/dist-packages (from llama-index->-r requirements.txt (line 1)) (0.9.48.post3)\n",
            "Requirement already satisfied: llama-index-multi-modal-llms-openai<0.3.0,>=0.2.0 in /usr/local/lib/python3.10/dist-packages (from llama-index->-r requirements.txt (line 1)) (0.2.1)\n",
            "Requirement already satisfied: llama-index-program-openai<0.3.0,>=0.2.0 in /usr/local/lib/python3.10/dist-packages (from llama-index->-r requirements.txt (line 1)) (0.2.0)\n",
            "Requirement already satisfied: llama-index-question-gen-openai<0.3.0,>=0.2.0 in /usr/local/lib/python3.10/dist-packages (from llama-index->-r requirements.txt (line 1)) (0.2.0)\n",
            "Requirement already satisfied: llama-index-readers-file<0.3.0,>=0.2.0 in /usr/local/lib/python3.10/dist-packages (from llama-index->-r requirements.txt (line 1)) (0.2.2)\n",
            "Requirement already satisfied: llama-index-readers-llama-parse>=0.3.0 in /usr/local/lib/python3.10/dist-packages (from llama-index->-r requirements.txt (line 1)) (0.3.0)\n",
            "Requirement already satisfied: nltk>3.8.1 in /usr/local/lib/python3.10/dist-packages (from llama-index->-r requirements.txt (line 1)) (3.9.1)\n",
            "Requirement already satisfied: huggingface-hub<0.24.0,>=0.23.0 in /usr/local/lib/python3.10/dist-packages (from llama-index-llms-huggingface->-r requirements.txt (line 2)) (0.23.5)\n",
            "Requirement already satisfied: text-generation<0.8.0,>=0.7.0 in /usr/local/lib/python3.10/dist-packages (from llama-index-llms-huggingface->-r requirements.txt (line 2)) (0.7.0)\n",
            "Requirement already satisfied: torch<3.0.0,>=2.1.2 in /usr/local/lib/python3.10/dist-packages (from llama-index-llms-huggingface->-r requirements.txt (line 2)) (2.4.1+cu121)\n",
            "Requirement already satisfied: transformers<5.0.0,>=4.37.0 in /usr/local/lib/python3.10/dist-packages (from transformers[torch]<5.0.0,>=4.37.0->llama-index-llms-huggingface->-r requirements.txt (line 2)) (4.44.2)\n",
            "Requirement already satisfied: PyStemmer<3.0.0,>=2.2.0 in /usr/local/lib/python3.10/dist-packages (from fastembed->-r requirements.txt (line 4)) (2.2.0.1)\n",
            "Requirement already satisfied: loguru<0.8.0,>=0.7.2 in /usr/local/lib/python3.10/dist-packages (from fastembed->-r requirements.txt (line 4)) (0.7.2)\n",
            "Requirement already satisfied: mmh3<5.0,>=4.0 in /usr/local/lib/python3.10/dist-packages (from fastembed->-r requirements.txt (line 4)) (4.1.0)\n",
            "Requirement already satisfied: numpy<2,>=1.21 in /usr/local/lib/python3.10/dist-packages (from fastembed->-r requirements.txt (line 4)) (1.26.4)\n",
            "Requirement already satisfied: onnx<2.0.0,>=1.15.0 in /usr/local/lib/python3.10/dist-packages (from fastembed->-r requirements.txt (line 4)) (1.16.2)\n",
            "Requirement already satisfied: onnxruntime<2.0.0,>=1.17.0 in /usr/local/lib/python3.10/dist-packages (from fastembed->-r requirements.txt (line 4)) (1.19.2)\n",
            "Requirement already satisfied: pillow<11.0.0,>=10.3.0 in /usr/local/lib/python3.10/dist-packages (from fastembed->-r requirements.txt (line 4)) (10.4.0)\n",
            "Requirement already satisfied: requests<3.0,>=2.31 in /usr/local/lib/python3.10/dist-packages (from fastembed->-r requirements.txt (line 4)) (2.32.3)\n",
            "Requirement already satisfied: snowballstemmer<3.0.0,>=2.2.0 in /usr/local/lib/python3.10/dist-packages (from fastembed->-r requirements.txt (line 4)) (2.2.0)\n",
            "Requirement already satisfied: tokenizers<1.0,>=0.15 in /usr/local/lib/python3.10/dist-packages (from fastembed->-r requirements.txt (line 4)) (0.19.1)\n",
            "Requirement already satisfied: tqdm<5.0,>=4.66 in /usr/local/lib/python3.10/dist-packages (from fastembed->-r requirements.txt (line 4)) (4.66.5)\n",
            "Requirement already satisfied: chardet in /usr/local/lib/python3.10/dist-packages (from Unstructured[md]->-r requirements.txt (line 5)) (5.2.0)\n",
            "Requirement already satisfied: filetype in /usr/local/lib/python3.10/dist-packages (from Unstructured[md]->-r requirements.txt (line 5)) (1.2.0)\n",
            "Requirement already satisfied: python-magic in /usr/local/lib/python3.10/dist-packages (from Unstructured[md]->-r requirements.txt (line 5)) (0.4.27)\n",
            "Requirement already satisfied: lxml in /usr/local/lib/python3.10/dist-packages (from Unstructured[md]->-r requirements.txt (line 5)) (4.9.4)\n",
            "Requirement already satisfied: tabulate in /usr/local/lib/python3.10/dist-packages (from Unstructured[md]->-r requirements.txt (line 5)) (0.9.0)\n",
            "Requirement already satisfied: beautifulsoup4 in /usr/local/lib/python3.10/dist-packages (from Unstructured[md]->-r requirements.txt (line 5)) (4.12.3)\n",
            "Requirement already satisfied: emoji in /usr/local/lib/python3.10/dist-packages (from Unstructured[md]->-r requirements.txt (line 5)) (2.13.0)\n",
            "Requirement already satisfied: dataclasses-json in /usr/local/lib/python3.10/dist-packages (from Unstructured[md]->-r requirements.txt (line 5)) (0.6.7)\n",
            "Requirement already satisfied: python-iso639 in /usr/local/lib/python3.10/dist-packages (from Unstructured[md]->-r requirements.txt (line 5)) (2024.4.27)\n",
            "Requirement already satisfied: langdetect in /usr/local/lib/python3.10/dist-packages (from Unstructured[md]->-r requirements.txt (line 5)) (1.0.9)\n",
            "Requirement already satisfied: rapidfuzz in /usr/local/lib/python3.10/dist-packages (from Unstructured[md]->-r requirements.txt (line 5)) (3.9.7)\n",
            "Requirement already satisfied: backoff in /usr/local/lib/python3.10/dist-packages (from Unstructured[md]->-r requirements.txt (line 5)) (2.2.1)\n",
            "Requirement already satisfied: typing-extensions in /usr/local/lib/python3.10/dist-packages (from Unstructured[md]->-r requirements.txt (line 5)) (4.12.2)\n",
            "Requirement already satisfied: unstructured-client in /usr/local/lib/python3.10/dist-packages (from Unstructured[md]->-r requirements.txt (line 5)) (0.25.9)\n",
            "Requirement already satisfied: wrapt in /usr/local/lib/python3.10/dist-packages (from Unstructured[md]->-r requirements.txt (line 5)) (1.16.0)\n",
            "Requirement already satisfied: psutil in /usr/local/lib/python3.10/dist-packages (from Unstructured[md]->-r requirements.txt (line 5)) (5.9.5)\n",
            "Requirement already satisfied: python-oxmsg in /usr/local/lib/python3.10/dist-packages (from Unstructured[md]->-r requirements.txt (line 5)) (0.0.1)\n",
            "Requirement already satisfied: markdown in /usr/local/lib/python3.10/dist-packages (from Unstructured[md]->-r requirements.txt (line 5)) (3.7)\n",
            "Requirement already satisfied: build>=1.0.3 in /usr/local/lib/python3.10/dist-packages (from chromadb->-r requirements.txt (line 6)) (1.2.2)\n",
            "Requirement already satisfied: pydantic>=1.9 in /usr/local/lib/python3.10/dist-packages (from chromadb->-r requirements.txt (line 6)) (2.9.2)\n",
            "Requirement already satisfied: chroma-hnswlib==0.7.6 in /usr/local/lib/python3.10/dist-packages (from chromadb->-r requirements.txt (line 6)) (0.7.6)\n",
            "Requirement already satisfied: fastapi>=0.95.2 in /usr/local/lib/python3.10/dist-packages (from chromadb->-r requirements.txt (line 6)) (0.115.0)\n",
            "Requirement already satisfied: uvicorn>=0.18.3 in /usr/local/lib/python3.10/dist-packages (from uvicorn[standard]>=0.18.3->chromadb->-r requirements.txt (line 6)) (0.30.6)\n",
            "Requirement already satisfied: posthog>=2.4.0 in /usr/local/lib/python3.10/dist-packages (from chromadb->-r requirements.txt (line 6)) (3.6.6)\n",
            "Requirement already satisfied: opentelemetry-api>=1.2.0 in /usr/local/lib/python3.10/dist-packages (from chromadb->-r requirements.txt (line 6)) (1.27.0)\n",
            "Requirement already satisfied: opentelemetry-exporter-otlp-proto-grpc>=1.2.0 in /usr/local/lib/python3.10/dist-packages (from chromadb->-r requirements.txt (line 6)) (1.27.0)\n",
            "Requirement already satisfied: opentelemetry-instrumentation-fastapi>=0.41b0 in /usr/local/lib/python3.10/dist-packages (from chromadb->-r requirements.txt (line 6)) (0.48b0)\n",
            "Requirement already satisfied: opentelemetry-sdk>=1.2.0 in /usr/local/lib/python3.10/dist-packages (from chromadb->-r requirements.txt (line 6)) (1.27.0)\n",
            "Requirement already satisfied: pypika>=0.48.9 in /usr/local/lib/python3.10/dist-packages (from chromadb->-r requirements.txt (line 6)) (0.48.9)\n",
            "Requirement already satisfied: overrides>=7.3.1 in /usr/local/lib/python3.10/dist-packages (from chromadb->-r requirements.txt (line 6)) (7.7.0)\n",
            "Requirement already satisfied: importlib-resources in /usr/local/lib/python3.10/dist-packages (from chromadb->-r requirements.txt (line 6)) (6.4.5)\n",
            "Requirement already satisfied: grpcio>=1.58.0 in /usr/local/lib/python3.10/dist-packages (from chromadb->-r requirements.txt (line 6)) (1.64.1)\n",
            "Requirement already satisfied: bcrypt>=4.0.1 in /usr/local/lib/python3.10/dist-packages (from chromadb->-r requirements.txt (line 6)) (4.2.0)\n",
            "Requirement already satisfied: typer>=0.9.0 in /usr/local/lib/python3.10/dist-packages (from chromadb->-r requirements.txt (line 6)) (0.12.5)\n",
            "Requirement already satisfied: kubernetes>=28.1.0 in /usr/local/lib/python3.10/dist-packages (from chromadb->-r requirements.txt (line 6)) (31.0.0)\n",
            "Requirement already satisfied: tenacity>=8.2.3 in /usr/local/lib/python3.10/dist-packages (from chromadb->-r requirements.txt (line 6)) (8.5.0)\n",
            "Requirement already satisfied: PyYAML>=6.0.0 in /usr/local/lib/python3.10/dist-packages (from chromadb->-r requirements.txt (line 6)) (6.0.2)\n",
            "Requirement already satisfied: orjson>=3.9.12 in /usr/local/lib/python3.10/dist-packages (from chromadb->-r requirements.txt (line 6)) (3.10.7)\n",
            "Requirement already satisfied: httpx>=0.27.0 in /usr/local/lib/python3.10/dist-packages (from chromadb->-r requirements.txt (line 6)) (0.27.2)\n",
            "Requirement already satisfied: rich>=10.11.0 in /usr/local/lib/python3.10/dist-packages (from chromadb->-r requirements.txt (line 6)) (13.8.1)\n",
            "Requirement already satisfied: llama-index-llms-openai-like<0.3.0,>=0.2.0 in /usr/local/lib/python3.10/dist-packages (from llama-index-llms-groq->-r requirements.txt (line 8)) (0.2.0)\n",
            "Requirement already satisfied: packaging>=20.0 in /usr/local/lib/python3.10/dist-packages (from accelerate->-r requirements.txt (line 10)) (24.1)\n",
            "Requirement already satisfied: safetensors>=0.4.3 in /usr/local/lib/python3.10/dist-packages (from accelerate->-r requirements.txt (line 10)) (0.4.5)\n",
            "Requirement already satisfied: scikit-learn in /usr/local/lib/python3.10/dist-packages (from sentence-transformers->-r requirements.txt (line 11)) (1.3.2)\n",
            "Requirement already satisfied: scipy in /usr/local/lib/python3.10/dist-packages (from sentence-transformers->-r requirements.txt (line 11)) (1.13.1)\n",
            "Requirement already satisfied: mistralai>=1.0.0 in /usr/local/lib/python3.10/dist-packages (from llama-index-llms-mistralai->-r requirements.txt (line 12)) (1.1.0)\n",
            "Requirement already satisfied: openai<2.0.0,>=1.40.0 in /usr/local/lib/python3.10/dist-packages (from llama-index-llms-openai->-r requirements.txt (line 13)) (1.47.0)\n",
            "Requirement already satisfied: pyproject_hooks in /usr/local/lib/python3.10/dist-packages (from build>=1.0.3->chromadb->-r requirements.txt (line 6)) (1.1.0)\n",
            "Requirement already satisfied: tomli>=1.1.0 in /usr/local/lib/python3.10/dist-packages (from build>=1.0.3->chromadb->-r requirements.txt (line 6)) (2.0.1)\n",
            "Requirement already satisfied: starlette<0.39.0,>=0.37.2 in /usr/local/lib/python3.10/dist-packages (from fastapi>=0.95.2->chromadb->-r requirements.txt (line 6)) (0.38.6)\n",
            "Requirement already satisfied: anyio in /usr/local/lib/python3.10/dist-packages (from httpx>=0.27.0->chromadb->-r requirements.txt (line 6)) (3.7.1)\n",
            "Requirement already satisfied: certifi in /usr/local/lib/python3.10/dist-packages (from httpx>=0.27.0->chromadb->-r requirements.txt (line 6)) (2024.8.30)\n",
            "Requirement already satisfied: httpcore==1.* in /usr/local/lib/python3.10/dist-packages (from httpx>=0.27.0->chromadb->-r requirements.txt (line 6)) (1.0.5)\n",
            "Requirement already satisfied: idna in /usr/local/lib/python3.10/dist-packages (from httpx>=0.27.0->chromadb->-r requirements.txt (line 6)) (3.10)\n",
            "Requirement already satisfied: sniffio in /usr/local/lib/python3.10/dist-packages (from httpx>=0.27.0->chromadb->-r requirements.txt (line 6)) (1.3.1)\n",
            "Requirement already satisfied: h11<0.15,>=0.13 in /usr/local/lib/python3.10/dist-packages (from httpcore==1.*->httpx>=0.27.0->chromadb->-r requirements.txt (line 6)) (0.14.0)\n",
            "Requirement already satisfied: filelock in /usr/local/lib/python3.10/dist-packages (from huggingface-hub<0.24.0,>=0.23.0->llama-index-llms-huggingface->-r requirements.txt (line 2)) (3.16.1)\n",
            "Requirement already satisfied: fsspec>=2023.5.0 in /usr/local/lib/python3.10/dist-packages (from huggingface-hub<0.24.0,>=0.23.0->llama-index-llms-huggingface->-r requirements.txt (line 2)) (2024.6.1)\n",
            "Requirement already satisfied: six>=1.9.0 in /usr/local/lib/python3.10/dist-packages (from kubernetes>=28.1.0->chromadb->-r requirements.txt (line 6)) (1.16.0)\n",
            "Requirement already satisfied: python-dateutil>=2.5.3 in /usr/local/lib/python3.10/dist-packages (from kubernetes>=28.1.0->chromadb->-r requirements.txt (line 6)) (2.8.2)\n",
            "Requirement already satisfied: google-auth>=1.0.1 in /usr/local/lib/python3.10/dist-packages (from kubernetes>=28.1.0->chromadb->-r requirements.txt (line 6)) (2.27.0)\n",
            "Requirement already satisfied: websocket-client!=0.40.0,!=0.41.*,!=0.42.*,>=0.32.0 in /usr/local/lib/python3.10/dist-packages (from kubernetes>=28.1.0->chromadb->-r requirements.txt (line 6)) (1.8.0)\n",
            "Requirement already satisfied: requests-oauthlib in /usr/local/lib/python3.10/dist-packages (from kubernetes>=28.1.0->chromadb->-r requirements.txt (line 6)) (1.3.1)\n",
            "Requirement already satisfied: oauthlib>=3.2.2 in /usr/local/lib/python3.10/dist-packages (from kubernetes>=28.1.0->chromadb->-r requirements.txt (line 6)) (3.2.2)\n",
            "Requirement already satisfied: urllib3>=1.24.2 in /usr/local/lib/python3.10/dist-packages (from kubernetes>=28.1.0->chromadb->-r requirements.txt (line 6)) (2.0.7)\n",
            "Requirement already satisfied: durationpy>=0.7 in /usr/local/lib/python3.10/dist-packages (from kubernetes>=28.1.0->chromadb->-r requirements.txt (line 6)) (0.7)\n",
            "Requirement already satisfied: SQLAlchemy>=1.4.49 in /usr/local/lib/python3.10/dist-packages (from SQLAlchemy[asyncio]>=1.4.49->llama-index-core<0.12.0,>=0.11.10->llama-index->-r requirements.txt (line 1)) (2.0.35)\n",
            "Requirement already satisfied: aiohttp<4.0.0,>=3.8.6 in /usr/local/lib/python3.10/dist-packages (from llama-index-core<0.12.0,>=0.11.10->llama-index->-r requirements.txt (line 1)) (3.10.5)\n",
            "Requirement already satisfied: deprecated>=1.2.9.3 in /usr/local/lib/python3.10/dist-packages (from llama-index-core<0.12.0,>=0.11.10->llama-index->-r requirements.txt (line 1)) (1.2.14)\n",
            "Requirement already satisfied: dirtyjson<2.0.0,>=1.0.8 in /usr/local/lib/python3.10/dist-packages (from llama-index-core<0.12.0,>=0.11.10->llama-index->-r requirements.txt (line 1)) (1.0.8)\n",
            "Requirement already satisfied: nest-asyncio<2.0.0,>=1.5.8 in /usr/local/lib/python3.10/dist-packages (from llama-index-core<0.12.0,>=0.11.10->llama-index->-r requirements.txt (line 1)) (1.6.0)\n",
            "Requirement already satisfied: networkx>=3.0 in /usr/local/lib/python3.10/dist-packages (from llama-index-core<0.12.0,>=0.11.10->llama-index->-r requirements.txt (line 1)) (3.3)\n",
            "Requirement already satisfied: tiktoken>=0.3.3 in /usr/local/lib/python3.10/dist-packages (from llama-index-core<0.12.0,>=0.11.10->llama-index->-r requirements.txt (line 1)) (0.7.0)\n",
            "Requirement already satisfied: typing-inspect>=0.8.0 in /usr/local/lib/python3.10/dist-packages (from llama-index-core<0.12.0,>=0.11.10->llama-index->-r requirements.txt (line 1)) (0.9.0)\n",
            "Requirement already satisfied: llama-cloud>=0.0.11 in /usr/local/lib/python3.10/dist-packages (from llama-index-indices-managed-llama-cloud>=0.3.0->llama-index->-r requirements.txt (line 1)) (0.0.17)\n",
            "Requirement already satisfied: pandas in /usr/local/lib/python3.10/dist-packages (from llama-index-legacy<0.10.0,>=0.9.48->llama-index->-r requirements.txt (line 1)) (2.1.4)\n",
            "Requirement already satisfied: pypdf<5.0.0,>=4.0.1 in /usr/local/lib/python3.10/dist-packages (from llama-index-readers-file<0.3.0,>=0.2.0->llama-index->-r requirements.txt (line 1)) (4.3.1)\n",
            "Requirement already satisfied: striprtf<0.0.27,>=0.0.26 in /usr/local/lib/python3.10/dist-packages (from llama-index-readers-file<0.3.0,>=0.2.0->llama-index->-r requirements.txt (line 1)) (0.0.26)\n",
            "Requirement already satisfied: soupsieve>1.2 in /usr/local/lib/python3.10/dist-packages (from beautifulsoup4->Unstructured[md]->-r requirements.txt (line 5)) (2.6)\n",
            "Requirement already satisfied: llama-parse>=0.5.0 in /usr/local/lib/python3.10/dist-packages (from llama-index-readers-llama-parse>=0.3.0->llama-index->-r requirements.txt (line 1)) (0.5.6)\n",
            "Requirement already satisfied: eval-type-backport<0.3.0,>=0.2.0 in /usr/local/lib/python3.10/dist-packages (from mistralai>=1.0.0->llama-index-llms-mistralai->-r requirements.txt (line 12)) (0.2.0)\n",
            "Requirement already satisfied: jsonpath-python<2.0.0,>=1.0.6 in /usr/local/lib/python3.10/dist-packages (from mistralai>=1.0.0->llama-index-llms-mistralai->-r requirements.txt (line 12)) (1.0.6)\n",
            "Requirement already satisfied: click in /usr/local/lib/python3.10/dist-packages (from nltk>3.8.1->llama-index->-r requirements.txt (line 1)) (8.1.7)\n",
            "Requirement already satisfied: joblib in /usr/local/lib/python3.10/dist-packages (from nltk>3.8.1->llama-index->-r requirements.txt (line 1)) (1.4.2)\n",
            "Requirement already satisfied: regex>=2021.8.3 in /usr/local/lib/python3.10/dist-packages (from nltk>3.8.1->llama-index->-r requirements.txt (line 1)) (2024.9.11)\n",
            "Requirement already satisfied: protobuf>=3.20.2 in /usr/local/lib/python3.10/dist-packages (from onnx<2.0.0,>=1.15.0->fastembed->-r requirements.txt (line 4)) (3.20.3)\n",
            "Requirement already satisfied: coloredlogs in /usr/local/lib/python3.10/dist-packages (from onnxruntime<2.0.0,>=1.17.0->fastembed->-r requirements.txt (line 4)) (15.0.1)\n",
            "Requirement already satisfied: flatbuffers in /usr/local/lib/python3.10/dist-packages (from onnxruntime<2.0.0,>=1.17.0->fastembed->-r requirements.txt (line 4)) (24.3.25)\n",
            "Requirement already satisfied: sympy in /usr/local/lib/python3.10/dist-packages (from onnxruntime<2.0.0,>=1.17.0->fastembed->-r requirements.txt (line 4)) (1.13.2)\n",
            "Requirement already satisfied: distro<2,>=1.7.0 in /usr/lib/python3/dist-packages (from openai<2.0.0,>=1.40.0->llama-index-llms-openai->-r requirements.txt (line 13)) (1.7.0)\n",
            "Requirement already satisfied: jiter<1,>=0.4.0 in /usr/local/lib/python3.10/dist-packages (from openai<2.0.0,>=1.40.0->llama-index-llms-openai->-r requirements.txt (line 13)) (0.5.0)\n",
            "Requirement already satisfied: importlib-metadata<=8.4.0,>=6.0 in /usr/local/lib/python3.10/dist-packages (from opentelemetry-api>=1.2.0->chromadb->-r requirements.txt (line 6)) (8.4.0)\n",
            "Requirement already satisfied: googleapis-common-protos~=1.52 in /usr/local/lib/python3.10/dist-packages (from opentelemetry-exporter-otlp-proto-grpc>=1.2.0->chromadb->-r requirements.txt (line 6)) (1.65.0)\n",
            "Requirement already satisfied: opentelemetry-exporter-otlp-proto-common==1.27.0 in /usr/local/lib/python3.10/dist-packages (from opentelemetry-exporter-otlp-proto-grpc>=1.2.0->chromadb->-r requirements.txt (line 6)) (1.27.0)\n",
            "Requirement already satisfied: opentelemetry-proto==1.27.0 in /usr/local/lib/python3.10/dist-packages (from opentelemetry-exporter-otlp-proto-grpc>=1.2.0->chromadb->-r requirements.txt (line 6)) (1.27.0)\n",
            "Requirement already satisfied: opentelemetry-instrumentation-asgi==0.48b0 in /usr/local/lib/python3.10/dist-packages (from opentelemetry-instrumentation-fastapi>=0.41b0->chromadb->-r requirements.txt (line 6)) (0.48b0)\n",
            "Requirement already satisfied: opentelemetry-instrumentation==0.48b0 in /usr/local/lib/python3.10/dist-packages (from opentelemetry-instrumentation-fastapi>=0.41b0->chromadb->-r requirements.txt (line 6)) (0.48b0)\n",
            "Requirement already satisfied: opentelemetry-semantic-conventions==0.48b0 in /usr/local/lib/python3.10/dist-packages (from opentelemetry-instrumentation-fastapi>=0.41b0->chromadb->-r requirements.txt (line 6)) (0.48b0)\n",
            "Requirement already satisfied: opentelemetry-util-http==0.48b0 in /usr/local/lib/python3.10/dist-packages (from opentelemetry-instrumentation-fastapi>=0.41b0->chromadb->-r requirements.txt (line 6)) (0.48b0)\n",
            "Requirement already satisfied: setuptools>=16.0 in /usr/local/lib/python3.10/dist-packages (from opentelemetry-instrumentation==0.48b0->opentelemetry-instrumentation-fastapi>=0.41b0->chromadb->-r requirements.txt (line 6)) (71.0.4)\n",
            "Requirement already satisfied: asgiref~=3.0 in /usr/local/lib/python3.10/dist-packages (from opentelemetry-instrumentation-asgi==0.48b0->opentelemetry-instrumentation-fastapi>=0.41b0->chromadb->-r requirements.txt (line 6)) (3.8.1)\n",
            "Requirement already satisfied: monotonic>=1.5 in /usr/local/lib/python3.10/dist-packages (from posthog>=2.4.0->chromadb->-r requirements.txt (line 6)) (1.6)\n",
            "Requirement already satisfied: annotated-types>=0.6.0 in /usr/local/lib/python3.10/dist-packages (from pydantic>=1.9->chromadb->-r requirements.txt (line 6)) (0.7.0)\n",
            "Requirement already satisfied: pydantic-core==2.23.4 in /usr/local/lib/python3.10/dist-packages (from pydantic>=1.9->chromadb->-r requirements.txt (line 6)) (2.23.4)\n",
            "Requirement already satisfied: charset-normalizer<4,>=2 in /usr/local/lib/python3.10/dist-packages (from requests<3.0,>=2.31->fastembed->-r requirements.txt (line 4)) (3.3.2)\n",
            "Requirement already satisfied: markdown-it-py>=2.2.0 in /usr/local/lib/python3.10/dist-packages (from rich>=10.11.0->chromadb->-r requirements.txt (line 6)) (3.0.0)\n",
            "Requirement already satisfied: pygments<3.0.0,>=2.13.0 in /usr/local/lib/python3.10/dist-packages (from rich>=10.11.0->chromadb->-r requirements.txt (line 6)) (2.18.0)\n",
            "Requirement already satisfied: jinja2 in /usr/local/lib/python3.10/dist-packages (from torch<3.0.0,>=2.1.2->llama-index-llms-huggingface->-r requirements.txt (line 2)) (3.1.4)\n",
            "Requirement already satisfied: shellingham>=1.3.0 in /usr/local/lib/python3.10/dist-packages (from typer>=0.9.0->chromadb->-r requirements.txt (line 6)) (1.5.4)\n",
            "Requirement already satisfied: httptools>=0.5.0 in /usr/local/lib/python3.10/dist-packages (from uvicorn[standard]>=0.18.3->chromadb->-r requirements.txt (line 6)) (0.6.1)\n",
            "Requirement already satisfied: python-dotenv>=0.13 in /usr/local/lib/python3.10/dist-packages (from uvicorn[standard]>=0.18.3->chromadb->-r requirements.txt (line 6)) (1.0.1)\n",
            "Requirement already satisfied: uvloop!=0.15.0,!=0.15.1,>=0.14.0 in /usr/local/lib/python3.10/dist-packages (from uvicorn[standard]>=0.18.3->chromadb->-r requirements.txt (line 6)) (0.20.0)\n",
            "Requirement already satisfied: watchfiles>=0.13 in /usr/local/lib/python3.10/dist-packages (from uvicorn[standard]>=0.18.3->chromadb->-r requirements.txt (line 6)) (0.24.0)\n",
            "Requirement already satisfied: websockets>=10.4 in /usr/local/lib/python3.10/dist-packages (from uvicorn[standard]>=0.18.3->chromadb->-r requirements.txt (line 6)) (13.1)\n",
            "Requirement already satisfied: marshmallow<4.0.0,>=3.18.0 in /usr/local/lib/python3.10/dist-packages (from dataclasses-json->Unstructured[md]->-r requirements.txt (line 5)) (3.22.0)\n",
            "Requirement already satisfied: olefile in /usr/local/lib/python3.10/dist-packages (from python-oxmsg->Unstructured[md]->-r requirements.txt (line 5)) (0.47)\n",
            "Requirement already satisfied: threadpoolctl>=2.0.0 in /usr/local/lib/python3.10/dist-packages (from scikit-learn->sentence-transformers->-r requirements.txt (line 11)) (3.5.0)\n",
            "Requirement already satisfied: cryptography>=3.1 in /usr/local/lib/python3.10/dist-packages (from unstructured-client->Unstructured[md]->-r requirements.txt (line 5)) (43.0.1)\n",
            "Requirement already satisfied: deepdiff>=6.0 in /usr/local/lib/python3.10/dist-packages (from unstructured-client->Unstructured[md]->-r requirements.txt (line 5)) (8.0.1)\n",
            "Requirement already satisfied: mypy-extensions>=1.0.0 in /usr/local/lib/python3.10/dist-packages (from unstructured-client->Unstructured[md]->-r requirements.txt (line 5)) (1.0.0)\n",
            "Requirement already satisfied: requests-toolbelt>=1.0.0 in /usr/local/lib/python3.10/dist-packages (from unstructured-client->Unstructured[md]->-r requirements.txt (line 5)) (1.0.0)\n",
            "Requirement already satisfied: aiohappyeyeballs>=2.3.0 in /usr/local/lib/python3.10/dist-packages (from aiohttp<4.0.0,>=3.8.6->llama-index-core<0.12.0,>=0.11.10->llama-index->-r requirements.txt (line 1)) (2.4.0)\n",
            "Requirement already satisfied: aiosignal>=1.1.2 in /usr/local/lib/python3.10/dist-packages (from aiohttp<4.0.0,>=3.8.6->llama-index-core<0.12.0,>=0.11.10->llama-index->-r requirements.txt (line 1)) (1.3.1)\n",
            "Requirement already satisfied: attrs>=17.3.0 in /usr/local/lib/python3.10/dist-packages (from aiohttp<4.0.0,>=3.8.6->llama-index-core<0.12.0,>=0.11.10->llama-index->-r requirements.txt (line 1)) (24.2.0)\n",
            "Requirement already satisfied: frozenlist>=1.1.1 in /usr/local/lib/python3.10/dist-packages (from aiohttp<4.0.0,>=3.8.6->llama-index-core<0.12.0,>=0.11.10->llama-index->-r requirements.txt (line 1)) (1.4.1)\n",
            "Requirement already satisfied: multidict<7.0,>=4.5 in /usr/local/lib/python3.10/dist-packages (from aiohttp<4.0.0,>=3.8.6->llama-index-core<0.12.0,>=0.11.10->llama-index->-r requirements.txt (line 1)) (6.1.0)\n",
            "Requirement already satisfied: yarl<2.0,>=1.0 in /usr/local/lib/python3.10/dist-packages (from aiohttp<4.0.0,>=3.8.6->llama-index-core<0.12.0,>=0.11.10->llama-index->-r requirements.txt (line 1)) (1.11.1)\n",
            "Requirement already satisfied: async-timeout<5.0,>=4.0 in /usr/local/lib/python3.10/dist-packages (from aiohttp<4.0.0,>=3.8.6->llama-index-core<0.12.0,>=0.11.10->llama-index->-r requirements.txt (line 1)) (4.0.3)\n",
            "Requirement already satisfied: exceptiongroup in /usr/local/lib/python3.10/dist-packages (from anyio->httpx>=0.27.0->chromadb->-r requirements.txt (line 6)) (1.2.2)\n",
            "Requirement already satisfied: cffi>=1.12 in /usr/local/lib/python3.10/dist-packages (from cryptography>=3.1->unstructured-client->Unstructured[md]->-r requirements.txt (line 5)) (1.17.1)\n",
            "Requirement already satisfied: orderly-set==5.2.2 in /usr/local/lib/python3.10/dist-packages (from deepdiff>=6.0->unstructured-client->Unstructured[md]->-r requirements.txt (line 5)) (5.2.2)\n",
            "Requirement already satisfied: cachetools<6.0,>=2.0.0 in /usr/local/lib/python3.10/dist-packages (from google-auth>=1.0.1->kubernetes>=28.1.0->chromadb->-r requirements.txt (line 6)) (5.5.0)\n",
            "Requirement already satisfied: pyasn1-modules>=0.2.1 in /usr/local/lib/python3.10/dist-packages (from google-auth>=1.0.1->kubernetes>=28.1.0->chromadb->-r requirements.txt (line 6)) (0.4.1)\n",
            "Requirement already satisfied: rsa<5,>=3.1.4 in /usr/local/lib/python3.10/dist-packages (from google-auth>=1.0.1->kubernetes>=28.1.0->chromadb->-r requirements.txt (line 6)) (4.9)\n",
            "Requirement already satisfied: zipp>=0.5 in /usr/local/lib/python3.10/dist-packages (from importlib-metadata<=8.4.0,>=6.0->opentelemetry-api>=1.2.0->chromadb->-r requirements.txt (line 6)) (3.20.2)\n",
            "Requirement already satisfied: mdurl~=0.1 in /usr/local/lib/python3.10/dist-packages (from markdown-it-py>=2.2.0->rich>=10.11.0->chromadb->-r requirements.txt (line 6)) (0.1.2)\n",
            "Requirement already satisfied: greenlet!=0.4.17 in /usr/local/lib/python3.10/dist-packages (from SQLAlchemy>=1.4.49->SQLAlchemy[asyncio]>=1.4.49->llama-index-core<0.12.0,>=0.11.10->llama-index->-r requirements.txt (line 1)) (3.1.0)\n",
            "Requirement already satisfied: humanfriendly>=9.1 in /usr/local/lib/python3.10/dist-packages (from coloredlogs->onnxruntime<2.0.0,>=1.17.0->fastembed->-r requirements.txt (line 4)) (10.0)\n",
            "Requirement already satisfied: MarkupSafe>=2.0 in /usr/local/lib/python3.10/dist-packages (from jinja2->torch<3.0.0,>=2.1.2->llama-index-llms-huggingface->-r requirements.txt (line 2)) (2.1.5)\n",
            "Requirement already satisfied: pytz>=2020.1 in /usr/local/lib/python3.10/dist-packages (from pandas->llama-index-legacy<0.10.0,>=0.9.48->llama-index->-r requirements.txt (line 1)) (2024.2)\n",
            "Requirement already satisfied: tzdata>=2022.1 in /usr/local/lib/python3.10/dist-packages (from pandas->llama-index-legacy<0.10.0,>=0.9.48->llama-index->-r requirements.txt (line 1)) (2024.1)\n",
            "Requirement already satisfied: mpmath<1.4,>=1.1.0 in /usr/local/lib/python3.10/dist-packages (from sympy->onnxruntime<2.0.0,>=1.17.0->fastembed->-r requirements.txt (line 4)) (1.3.0)\n",
            "Requirement already satisfied: pycparser in /usr/local/lib/python3.10/dist-packages (from cffi>=1.12->cryptography>=3.1->unstructured-client->Unstructured[md]->-r requirements.txt (line 5)) (2.22)\n",
            "Requirement already satisfied: pyasn1<0.7.0,>=0.4.6 in /usr/local/lib/python3.10/dist-packages (from pyasn1-modules>=0.2.1->google-auth>=1.0.1->kubernetes>=28.1.0->chromadb->-r requirements.txt (line 6)) (0.6.1)\n"
          ]
        }
      ],
      "source": [
        "!pip install -r requirements.txt"
      ]
    },
    {
      "cell_type": "code",
      "source": [
        "!mkdir data\n",
        "#\n",
        "! wget \"https://arxiv.org/pdf/1810.04805.pdf\" -O ./data/BERT_arxiv.pdf\n",
        "! wget \"https://arxiv.org/pdf/2005.11401\" -O ./data/RAG_arxiv.pdf\n",
        "! wget \"https://arxiv.org/pdf/2310.11511\" -O ./data/self_rag_arxiv.pdf\n",
        "! wget \"https://arxiv.org/pdf/2401.15884\" -O ./data/crag_arxiv.pdf"
      ],
      "metadata": {
        "colab": {
          "base_uri": "https://localhost:8080/"
        },
        "id": "dA-I_k8x19C3",
        "outputId": "b7e85987-a21f-4681-b9aa-338f6bd21385"
      },
      "execution_count": 2,
      "outputs": [
        {
          "output_type": "stream",
          "name": "stdout",
          "text": [
            "mkdir: cannot create directory ‘data’: File exists\n",
            "--2024-09-22 18:04:52--  https://arxiv.org/pdf/1810.04805.pdf\n",
            "Resolving arxiv.org (arxiv.org)... 151.101.131.42, 151.101.67.42, 151.101.3.42, ...\n",
            "Connecting to arxiv.org (arxiv.org)|151.101.131.42|:443... connected.\n",
            "HTTP request sent, awaiting response... 301 Moved Permanently\n",
            "Location: http://arxiv.org/pdf/1810.04805 [following]\n",
            "--2024-09-22 18:04:52--  http://arxiv.org/pdf/1810.04805\n",
            "Connecting to arxiv.org (arxiv.org)|151.101.131.42|:80... connected.\n",
            "HTTP request sent, awaiting response... 200 OK\n",
            "Length: 775166 (757K) [application/pdf]\n",
            "Saving to: ‘./data/BERT_arxiv.pdf’\n",
            "\n",
            "./data/BERT_arxiv.p 100%[===================>] 757.00K  --.-KB/s    in 0.05s   \n",
            "\n",
            "2024-09-22 18:04:52 (16.3 MB/s) - ‘./data/BERT_arxiv.pdf’ saved [775166/775166]\n",
            "\n",
            "--2024-09-22 18:04:52--  https://arxiv.org/pdf/2005.11401\n",
            "Resolving arxiv.org (arxiv.org)... 151.101.131.42, 151.101.67.42, 151.101.3.42, ...\n",
            "Connecting to arxiv.org (arxiv.org)|151.101.131.42|:443... connected.\n",
            "HTTP request sent, awaiting response... 200 OK\n",
            "Length: 885323 (865K) [application/pdf]\n",
            "Saving to: ‘./data/RAG_arxiv.pdf’\n",
            "\n",
            "./data/RAG_arxiv.pd 100%[===================>] 864.57K  --.-KB/s    in 0.04s   \n",
            "\n",
            "2024-09-22 18:04:52 (20.4 MB/s) - ‘./data/RAG_arxiv.pdf’ saved [885323/885323]\n",
            "\n",
            "--2024-09-22 18:04:52--  https://arxiv.org/pdf/2310.11511\n",
            "Resolving arxiv.org (arxiv.org)... 151.101.131.42, 151.101.67.42, 151.101.3.42, ...\n",
            "Connecting to arxiv.org (arxiv.org)|151.101.131.42|:443... connected.\n",
            "HTTP request sent, awaiting response... 200 OK\n",
            "Length: 1405127 (1.3M) [application/pdf]\n",
            "Saving to: ‘./data/self_rag_arxiv.pdf’\n",
            "\n",
            "./data/self_rag_arx 100%[===================>]   1.34M  --.-KB/s    in 0.06s   \n",
            "\n",
            "2024-09-22 18:04:52 (23.3 MB/s) - ‘./data/self_rag_arxiv.pdf’ saved [1405127/1405127]\n",
            "\n",
            "--2024-09-22 18:04:52--  https://arxiv.org/pdf/2401.15884\n",
            "Resolving arxiv.org (arxiv.org)... 151.101.131.42, 151.101.67.42, 151.101.3.42, ...\n",
            "Connecting to arxiv.org (arxiv.org)|151.101.131.42|:443... connected.\n",
            "HTTP request sent, awaiting response... 200 OK\n",
            "Length: 643848 (629K) [application/pdf]\n",
            "Saving to: ‘./data/crag_arxiv.pdf’\n",
            "\n",
            "./data/crag_arxiv.p 100%[===================>] 628.76K  --.-KB/s    in 0.03s   \n",
            "\n",
            "2024-09-22 18:04:53 (18.6 MB/s) - ‘./data/crag_arxiv.pdf’ saved [643848/643848]\n",
            "\n"
          ]
        }
      ]
    },
    {
      "cell_type": "code",
      "source": [
        "from llama_index.core import SimpleDirectoryReader,VectorStoreIndex,SummaryIndex\n",
        "from llama_index.vector_stores.chroma import ChromaVectorStore\n",
        "from llama_index.core import StorageContext\n",
        "from llama_index.core.node_parser import SentenceSplitter\n",
        "from llama_index.core.tools import FunctionTool,QueryEngineTool\n",
        "from llama_index.core.vector_stores import MetadataFilters,FilterCondition\n",
        "from typing import List,Optional"
      ],
      "metadata": {
        "id": "gjlh--lO1_Ig"
      },
      "execution_count": 3,
      "outputs": []
    },
    {
      "cell_type": "code",
      "source": [
        "import  nest_asyncio\n",
        "nest_asyncio.apply()"
      ],
      "metadata": {
        "id": "u9REyQzk2Zj1"
      },
      "execution_count": 4,
      "outputs": []
    },
    {
      "cell_type": "code",
      "source": [
        "documents = SimpleDirectoryReader(input_files = ['./data/self_rag_arxiv.pdf']).load_data()\n",
        "print(len(documents))\n",
        "print(f\"Document Metadata: {documents[0].metadata}\")"
      ],
      "metadata": {
        "colab": {
          "base_uri": "https://localhost:8080/"
        },
        "id": "UN8evxVu2a-r",
        "outputId": "09d6d603-d590-4ff2-8682-c80232b8d876"
      },
      "execution_count": 5,
      "outputs": [
        {
          "output_type": "stream",
          "name": "stdout",
          "text": [
            "30\n",
            "Document Metadata: {'page_label': '1', 'file_name': 'self_rag_arxiv.pdf', 'file_path': 'data/self_rag_arxiv.pdf', 'file_type': 'application/pdf', 'file_size': 1405127, 'creation_date': '2024-09-22', 'last_modified_date': '2023-10-19'}\n"
          ]
        }
      ]
    },
    {
      "cell_type": "code",
      "source": [
        "splitter = SentenceSplitter(chunk_size=1024,chunk_overlap=100)\n",
        "nodes = splitter.get_nodes_from_documents(documents)\n",
        "print(f\"Length of nodes : {len(nodes)}\")\n",
        "print(f\"get the content for node 0 :{nodes[0].get_content(metadata_mode='all')}\")"
      ],
      "metadata": {
        "colab": {
          "base_uri": "https://localhost:8080/"
        },
        "id": "LqwS42lC2c3r",
        "outputId": "0e899cba-bd0f-4bc0-dfd7-2a947f96ee6e"
      },
      "execution_count": 6,
      "outputs": [
        {
          "output_type": "stream",
          "name": "stdout",
          "text": [
            "Length of nodes : 43\n",
            "get the content for node 0 :page_label: 1\n",
            "file_name: self_rag_arxiv.pdf\n",
            "file_path: data/self_rag_arxiv.pdf\n",
            "file_type: application/pdf\n",
            "file_size: 1405127\n",
            "creation_date: 2024-09-22\n",
            "last_modified_date: 2023-10-19\n",
            "\n",
            "Preprint.\n",
            "SELF-RAG: LEARNING TO RETRIEVE , GENERATE ,AND\n",
            "CRITIQUE THROUGH SELF-REFLECTION\n",
            "Akari Asai†, Zeqiu Wu†, Yizhong Wang†§, Avirup Sil‡, Hannaneh Hajishirzi†§\n",
            "†University of Washington§Allen Institute for AI‡IBM Research AI\n",
            "{akari,zeqiuwu,yizhongw,hannaneh }@cs.washington.edu ,avi@us.ibm.com\n",
            "ABSTRACT\n",
            "Despite their remarkable capabilities, large language models (LLMs) often produce\n",
            "responses containing factual inaccuracies due to their sole reliance on the paramet-\n",
            "ric knowledge they encapsulate. Retrieval-Augmented Generation (RAG), an ad\n",
            "hoc approach that augments LMs with retrieval of relevant knowledge, decreases\n",
            "such issues. However, indiscriminately retrieving and incorporating a fixed number\n",
            "of retrieved passages, regardless of whether retrieval is necessary, or passages are\n",
            "relevant, diminishes LM versatility or can lead to unhelpful response generation.\n",
            "We introduce a new framework called Self-Reflective Retrieval-Augmented Gen-\n",
            "eration ( SELF-RAG)that enhances an LM’s quality and factuality through retrieval\n",
            "and self-reflection. Our framework trains a single arbitrary LM that adaptively\n",
            "retrieves passages on-demand, and generates and reflects on retrieved passages\n",
            "and its own generations using special tokens, called reflection tokens. Generating\n",
            "reflection tokens makes the LM controllable during the inference phase, enabling it\n",
            "to tailor its behavior to diverse task requirements. Experiments show that SELF-\n",
            "RAG(7B and 13B parameters) significantly outperforms state-of-the-art LLMs\n",
            "and retrieval-augmented models on a diverse set of tasks. Specifically, SELF-RAG\n",
            "outperforms ChatGPT and retrieval-augmented Llama2-chat on Open-domain QA,\n",
            "reasoning and fact verification tasks, and it shows significant gains in improving\n",
            "factuality and citation accuracy for long-form generations relative to these models.1\n",
            "1 I NTRODUCTION\n",
            "State-of-the-art LLMs continue to struggle with factual errors (Mallen et al., 2023; Min et al., 2023)\n",
            "despite their increased model and data scale (Ouyang et al., 2022). Retrieval-Augmented Generation\n",
            "(RAG) methods (Figure 1 left; Lewis et al. 2020; Guu et al. 2020) augment the input of LLMs\n",
            "with relevant retrieved passages, reducing factual errors in knowledge-intensive tasks (Ram et al.,\n",
            "2023; Asai et al., 2023a). However, these methods may hinder the versatility of LLMs or introduce\n",
            "unnecessary or off-topic passages that lead to low-quality generations (Shi et al., 2023) since they\n",
            "retrieve passages indiscriminately regardless of whether the factual grounding is helpful. Moreover,\n",
            "the output is not guaranteed to be consistent with retrieved relevant passages (Gao et al., 2023) since\n",
            "the models are not explicitly trained to leverage and follow facts from provided passages. This\n",
            "work introduces Self-Reflective Retrieval-augmented Generation ( SELF-RAG)to improve an\n",
            "LLM’s generation quality, including its factual accuracy without hurting its versatility, via on-demand\n",
            "retrieval and self-reflection. We train an arbitrary LM in an end-to-end manner to learn to reflect on\n",
            "its own generation process given a task input by generating both task output and intermittent special\n",
            "tokens (i.e., reflection tokens ). Reflection tokens are categorized into retrieval andcritique tokens to\n",
            "indicate the need for retrieval and its generation quality respectively (Figure 1 right). In particular,\n",
            "given an input prompt and preceding generations, SELF-RAGfirst determines if augmenting the\n",
            "continued generation with retrieved passages would be helpful. If so, it outputs a retrieval token that\n",
            "calls a retriever model on demand (Step 1). Subsequently, SELF-RAGconcurrently processes multiple\n",
            "retrieved passages, evaluating their relevance and then generating corresponding task outputs (Step\n",
            "2). It then generates critique tokens to criticize its own output and choose best one (Step 3) in terms\n",
            "of factuality and overall quality. This process differs from conventional RAG (Figure 1 left), which\n",
            "1Our code and trained models are available at https://selfrag.github.io/ .\n",
            "1arXiv:2310.11511v1  [cs.CL]  17 Oct 2023\n"
          ]
        }
      ]
    },
    {
      "cell_type": "code",
      "source": [
        "import chromadb\n",
        "db = chromadb.PersistentClient(path=\"./chroma_db_mistral\")\n",
        "chroma_collection = db.get_or_create_collection(\"multidocument-agent\")\n",
        "vector_store = ChromaVectorStore(chroma_collection=chroma_collection)\n",
        "storage_context = StorageContext.from_defaults(vector_store=vector_store)"
      ],
      "metadata": {
        "id": "vbWg09QB2iQS"
      },
      "execution_count": 7,
      "outputs": []
    },
    {
      "cell_type": "code",
      "source": [
        "from llama_index.embeddings.fastembed import FastEmbedEmbedding\n",
        "from llama_index.core import Settings\n",
        "#\n",
        "embed_model = FastEmbedEmbedding(model_name=\"BAAI/bge-small-en-v1.5\")\n",
        "#\n",
        "Settings.embed_model = embed_model\n",
        "#\n",
        "Settings.chunk_size = 1024"
      ],
      "metadata": {
        "colab": {
          "base_uri": "https://localhost:8080/",
          "height": 173,
          "referenced_widgets": [
            "878eb61bdfb143ff8e7372624f9f8432",
            "9427dad333b3404a8252fa8a54f9dbae",
            "ee72b8a3ab644c9f8d1f38a825033c8b",
            "b87823daec314ff6a18f9a595baab05c",
            "f7efedc283f34576921413280f21b5e8",
            "035c94f6d4cc489694b289bb1423c527",
            "a8541f8699864085b55e252a3d2ef6d1",
            "f33da84d133d48e7b3fbbf106c830867",
            "3786350716b5408dbb4f605a87e1559d",
            "997a2145b0cc464fa2ac7c85a6c6648e",
            "e057dce8389143968b25e916319de21a"
          ]
        },
        "id": "TlqTxwCm2o3c",
        "outputId": "8cdf8fb1-1320-4516-c900-5d8034488453"
      },
      "execution_count": 8,
      "outputs": [
        {
          "output_type": "stream",
          "name": "stderr",
          "text": [
            "/usr/local/lib/python3.10/dist-packages/huggingface_hub/utils/_token.py:89: UserWarning: \n",
            "The secret `HF_TOKEN` does not exist in your Colab secrets.\n",
            "To authenticate with the Hugging Face Hub, create a token in your settings tab (https://huggingface.co/settings/tokens), set it as secret in your Google Colab and restart your session.\n",
            "You will be able to reuse this secret in all of your notebooks.\n",
            "Please note that authentication is recommended but still optional to access public models or datasets.\n",
            "  warnings.warn(\n"
          ]
        },
        {
          "output_type": "display_data",
          "data": {
            "text/plain": [
              "Fetching 5 files:   0%|          | 0/5 [00:00<?, ?it/s]"
            ],
            "application/vnd.jupyter.widget-view+json": {
              "version_major": 2,
              "version_minor": 0,
              "model_id": "878eb61bdfb143ff8e7372624f9f8432"
            }
          },
          "metadata": {}
        }
      ]
    },
    {
      "cell_type": "code",
      "source": [
        "from llama_index.llms.mistralai import MistralAI\n",
        "import os\n",
        "os.environ[\"MISTRAL_API_KEY\"] = 'QKoiAPxq1tuxMhU1QnPXNUFbA0lTqs28'\n",
        "llm = MistralAI(model=\"mistral-large-latest\")\n",
        "\n",
        "name = \"BERT_arxiv\"\n",
        "vector_index = VectorStoreIndex(nodes,storage_context=storage_context)\n",
        "vector_index.storage_context.vector_store.persist(persist_path=\"/content/chroma_db\")\n",
        "#\n",
        "# Define Vectorstore Autoretrieval tool\n",
        "def vector_query(query:str,page_numbers:Optional[List[str]]=None)->str:\n",
        "  '''\n",
        "  perform vector search over index on\n",
        "  query(str): query string needs to be embedded\n",
        "  page_numbers(List[str]): list of page numbers to be retrieved,\n",
        "                          leave blank if we want to perform a vector search over all pages\n",
        "  '''\n",
        "  page_numbers = page_numbers or []\n",
        "  metadata_dict = [{\"key\":'page_label',\"value\":p} for p in page_numbers]\n",
        "  #\n",
        "  query_engine = vector_index.as_query_engine(\n",
        "    similarity_top_k=2,\n",
        "    filters=MetadataFilters.from_dicts(metadata_dict, condition=FilterCondition.OR),\n",
        "    llm=llm\n",
        ")\n",
        "  #\n",
        "  response = query_engine.query(query)\n",
        "  return response\n",
        "#\n",
        "#llamiondex FunctionTool wraps any python function we feed it\n",
        "vector_query_tool = FunctionTool.from_defaults(name=f\"vector_tool_{name}\",\n",
        "                                              fn=vector_query)\n",
        "# Prepare Summary Tool\n",
        "summary_index = SummaryIndex(nodes)\n",
        "summary_query_engine = summary_index.as_query_engine(response_mode=\"tree_summarize\",\n",
        "                                                      se_async=True, llm = llm)\n",
        "summary_query_tool = QueryEngineTool.from_defaults(name=f\"summary_tool_{name}\",\n",
        "                                                    query_engine=summary_query_engine,\n",
        "                                                  description=(\"Use ONLY IF you want to get a holistic summary of the documents.\"\n",
        "                                              \"DO NOT USE if you have specified questions over the documents.\"))\n",
        "\n",
        "print(f\"Using LLM: {llm}\")"
      ],
      "metadata": {
        "colab": {
          "base_uri": "https://localhost:8080/"
        },
        "id": "Y0c2wsFZ2wHY",
        "outputId": "21014b2a-ace4-4459-ffa0-d0d8c01bbcd3"
      },
      "execution_count": 30,
      "outputs": [
        {
          "output_type": "stream",
          "name": "stderr",
          "text": [
            "WARNING:chromadb.segment.impl.metadata.sqlite:Insert of existing embedding ID: 97628c2a-2fa5-4762-acc4-623821ecbcf1\n",
            "WARNING:chromadb.segment.impl.metadata.sqlite:Insert of existing embedding ID: d1c0ec26-5418-4a79-b347-191bad630784\n",
            "WARNING:chromadb.segment.impl.metadata.sqlite:Insert of existing embedding ID: 04ba2dc3-31d2-4ed5-8e6b-5379eaabb4cf\n",
            "WARNING:chromadb.segment.impl.metadata.sqlite:Insert of existing embedding ID: 8ac8be9c-3df2-4cb4-afa6-8c1b275936ff\n",
            "WARNING:chromadb.segment.impl.metadata.sqlite:Insert of existing embedding ID: ff2de3a1-90ff-4c84-89af-9d31280cc465\n",
            "WARNING:chromadb.segment.impl.metadata.sqlite:Insert of existing embedding ID: 17d88315-e799-4d73-a133-26ba88f01a70\n",
            "WARNING:chromadb.segment.impl.metadata.sqlite:Insert of existing embedding ID: d1346617-12d6-4622-aa68-88accab68cee\n",
            "WARNING:chromadb.segment.impl.metadata.sqlite:Insert of existing embedding ID: a25e4e84-0b13-48f2-8d84-a172e8f9530a\n",
            "WARNING:chromadb.segment.impl.metadata.sqlite:Insert of existing embedding ID: 794b24d4-cb43-44b5-97bb-00f5e0ef316b\n",
            "WARNING:chromadb.segment.impl.metadata.sqlite:Insert of existing embedding ID: f28bbcae-b500-4f08-91de-31ccf45a8531\n",
            "WARNING:chromadb.segment.impl.metadata.sqlite:Insert of existing embedding ID: cfe0fc8a-7792-43a2-b4be-d2963834ee32\n",
            "WARNING:chromadb.segment.impl.metadata.sqlite:Insert of existing embedding ID: de91a58b-e732-459a-a30e-13c7f5e81889\n",
            "WARNING:chromadb.segment.impl.metadata.sqlite:Insert of existing embedding ID: 7d658a19-b119-4778-ad64-37f36a23926b\n",
            "WARNING:chromadb.segment.impl.metadata.sqlite:Insert of existing embedding ID: 6c83d8e7-3fe3-4946-b20d-de357617d733\n",
            "WARNING:chromadb.segment.impl.metadata.sqlite:Insert of existing embedding ID: def1dd93-430f-41e5-bdf5-a5f57ae5c5dd\n",
            "WARNING:chromadb.segment.impl.metadata.sqlite:Insert of existing embedding ID: 93c699d6-fe25-47ad-b63a-150c9bff4d10\n",
            "WARNING:chromadb.segment.impl.metadata.sqlite:Insert of existing embedding ID: 1cc61132-c10f-4e8e-84c0-1040a278b969\n",
            "WARNING:chromadb.segment.impl.metadata.sqlite:Insert of existing embedding ID: 22ae9f24-cc6d-4c57-bae5-4090bf85a0b2\n",
            "WARNING:chromadb.segment.impl.metadata.sqlite:Insert of existing embedding ID: 8648bec8-654d-493b-9028-ac51b0441e0a\n",
            "WARNING:chromadb.segment.impl.metadata.sqlite:Insert of existing embedding ID: 95054cad-ec2c-40fb-97f8-2fcd3b2a406c\n",
            "WARNING:chromadb.segment.impl.metadata.sqlite:Insert of existing embedding ID: c77bf9b5-7536-4348-bd7d-b5d7f77e8714\n",
            "WARNING:chromadb.segment.impl.metadata.sqlite:Insert of existing embedding ID: 2c271864-df12-48e4-8048-52f82c6d0910\n",
            "WARNING:chromadb.segment.impl.metadata.sqlite:Insert of existing embedding ID: 160e9f80-8bdf-46fb-a942-01f7f1654c52\n",
            "WARNING:chromadb.segment.impl.metadata.sqlite:Insert of existing embedding ID: 3bcb5a8b-9e0d-45bd-8643-a2f9d13c93c4\n",
            "WARNING:chromadb.segment.impl.metadata.sqlite:Insert of existing embedding ID: 29d3042a-4269-45db-9eca-3b8fbd2e0ab6\n",
            "WARNING:chromadb.segment.impl.metadata.sqlite:Insert of existing embedding ID: 1d9fc2c4-cbb0-4792-a72c-bcef882c3d13\n",
            "WARNING:chromadb.segment.impl.metadata.sqlite:Insert of existing embedding ID: 474c8363-2d16-4063-be3a-461cec513d9b\n",
            "WARNING:chromadb.segment.impl.metadata.sqlite:Insert of existing embedding ID: 238ca14c-60b3-4cb0-85b2-12ca50913c6f\n",
            "WARNING:chromadb.segment.impl.metadata.sqlite:Insert of existing embedding ID: 5b6c2ad4-daaf-4fc2-89ec-09c4f3f2ebce\n",
            "WARNING:chromadb.segment.impl.metadata.sqlite:Insert of existing embedding ID: bfe5d388-1930-441b-8b21-63911d650f16\n",
            "WARNING:chromadb.segment.impl.metadata.sqlite:Insert of existing embedding ID: 997d145d-a805-4d3f-892f-e06b00cdc1a9\n",
            "WARNING:chromadb.segment.impl.metadata.sqlite:Insert of existing embedding ID: 857f7933-abad-4e89-96e1-54c11ef23a39\n",
            "WARNING:chromadb.segment.impl.metadata.sqlite:Insert of existing embedding ID: 5b5b862c-027f-41b1-a8ae-43a0d9112229\n",
            "WARNING:chromadb.segment.impl.metadata.sqlite:Insert of existing embedding ID: b607f244-4f6e-4277-965b-5d3c6e7c4966\n",
            "WARNING:chromadb.segment.impl.metadata.sqlite:Insert of existing embedding ID: 61faadd4-049e-466f-a073-bc1a105f554d\n",
            "WARNING:chromadb.segment.impl.metadata.sqlite:Insert of existing embedding ID: fdc18741-e6bb-486f-9948-dd9bc34625cc\n",
            "WARNING:chromadb.segment.impl.metadata.sqlite:Insert of existing embedding ID: 3cf9fd2e-7fee-4bbf-a9cf-24668bfbb3fd\n",
            "WARNING:chromadb.segment.impl.metadata.sqlite:Insert of existing embedding ID: b1cb0306-c700-4e19-a584-6013ea58ea88\n",
            "WARNING:chromadb.segment.impl.metadata.sqlite:Insert of existing embedding ID: bf120b29-e0d1-4c88-b15f-2ccd039bb20a\n",
            "WARNING:chromadb.segment.impl.metadata.sqlite:Insert of existing embedding ID: d524b6e3-1bb7-40b0-a1ee-af03fc1cc204\n",
            "WARNING:chromadb.segment.impl.metadata.sqlite:Insert of existing embedding ID: 743bb289-7882-4fa3-a367-ff153beb7485\n",
            "WARNING:chromadb.segment.impl.metadata.sqlite:Insert of existing embedding ID: 51109ea1-32fe-415f-ba35-275eafdec138\n",
            "WARNING:chromadb.segment.impl.metadata.sqlite:Insert of existing embedding ID: 7abcfe8b-02c9-479a-8a63-92ff00e0a80c\n",
            "WARNING:chromadb.segment.impl.vector.local_persistent_hnsw:Add of existing embedding ID: 97628c2a-2fa5-4762-acc4-623821ecbcf1\n",
            "WARNING:chromadb.segment.impl.vector.local_persistent_hnsw:Add of existing embedding ID: d1c0ec26-5418-4a79-b347-191bad630784\n",
            "WARNING:chromadb.segment.impl.vector.local_persistent_hnsw:Add of existing embedding ID: 04ba2dc3-31d2-4ed5-8e6b-5379eaabb4cf\n",
            "WARNING:chromadb.segment.impl.vector.local_persistent_hnsw:Add of existing embedding ID: 8ac8be9c-3df2-4cb4-afa6-8c1b275936ff\n",
            "WARNING:chromadb.segment.impl.vector.local_persistent_hnsw:Add of existing embedding ID: ff2de3a1-90ff-4c84-89af-9d31280cc465\n",
            "WARNING:chromadb.segment.impl.vector.local_persistent_hnsw:Add of existing embedding ID: 17d88315-e799-4d73-a133-26ba88f01a70\n",
            "WARNING:chromadb.segment.impl.vector.local_persistent_hnsw:Add of existing embedding ID: d1346617-12d6-4622-aa68-88accab68cee\n",
            "WARNING:chromadb.segment.impl.vector.local_persistent_hnsw:Add of existing embedding ID: a25e4e84-0b13-48f2-8d84-a172e8f9530a\n",
            "WARNING:chromadb.segment.impl.vector.local_persistent_hnsw:Add of existing embedding ID: 794b24d4-cb43-44b5-97bb-00f5e0ef316b\n",
            "WARNING:chromadb.segment.impl.vector.local_persistent_hnsw:Add of existing embedding ID: f28bbcae-b500-4f08-91de-31ccf45a8531\n",
            "WARNING:chromadb.segment.impl.vector.local_persistent_hnsw:Add of existing embedding ID: cfe0fc8a-7792-43a2-b4be-d2963834ee32\n",
            "WARNING:chromadb.segment.impl.vector.local_persistent_hnsw:Add of existing embedding ID: de91a58b-e732-459a-a30e-13c7f5e81889\n",
            "WARNING:chromadb.segment.impl.vector.local_persistent_hnsw:Add of existing embedding ID: 7d658a19-b119-4778-ad64-37f36a23926b\n",
            "WARNING:chromadb.segment.impl.vector.local_persistent_hnsw:Add of existing embedding ID: 6c83d8e7-3fe3-4946-b20d-de357617d733\n",
            "WARNING:chromadb.segment.impl.vector.local_persistent_hnsw:Add of existing embedding ID: def1dd93-430f-41e5-bdf5-a5f57ae5c5dd\n",
            "WARNING:chromadb.segment.impl.vector.local_persistent_hnsw:Add of existing embedding ID: 93c699d6-fe25-47ad-b63a-150c9bff4d10\n",
            "WARNING:chromadb.segment.impl.vector.local_persistent_hnsw:Add of existing embedding ID: 1cc61132-c10f-4e8e-84c0-1040a278b969\n",
            "WARNING:chromadb.segment.impl.vector.local_persistent_hnsw:Add of existing embedding ID: 22ae9f24-cc6d-4c57-bae5-4090bf85a0b2\n",
            "WARNING:chromadb.segment.impl.vector.local_persistent_hnsw:Add of existing embedding ID: 8648bec8-654d-493b-9028-ac51b0441e0a\n",
            "WARNING:chromadb.segment.impl.vector.local_persistent_hnsw:Add of existing embedding ID: 95054cad-ec2c-40fb-97f8-2fcd3b2a406c\n",
            "WARNING:chromadb.segment.impl.vector.local_persistent_hnsw:Add of existing embedding ID: c77bf9b5-7536-4348-bd7d-b5d7f77e8714\n",
            "WARNING:chromadb.segment.impl.vector.local_persistent_hnsw:Add of existing embedding ID: 2c271864-df12-48e4-8048-52f82c6d0910\n",
            "WARNING:chromadb.segment.impl.vector.local_persistent_hnsw:Add of existing embedding ID: 160e9f80-8bdf-46fb-a942-01f7f1654c52\n",
            "WARNING:chromadb.segment.impl.vector.local_persistent_hnsw:Add of existing embedding ID: 3bcb5a8b-9e0d-45bd-8643-a2f9d13c93c4\n",
            "WARNING:chromadb.segment.impl.vector.local_persistent_hnsw:Add of existing embedding ID: 29d3042a-4269-45db-9eca-3b8fbd2e0ab6\n",
            "WARNING:chromadb.segment.impl.vector.local_persistent_hnsw:Add of existing embedding ID: 1d9fc2c4-cbb0-4792-a72c-bcef882c3d13\n",
            "WARNING:chromadb.segment.impl.vector.local_persistent_hnsw:Add of existing embedding ID: 474c8363-2d16-4063-be3a-461cec513d9b\n",
            "WARNING:chromadb.segment.impl.vector.local_persistent_hnsw:Add of existing embedding ID: 238ca14c-60b3-4cb0-85b2-12ca50913c6f\n",
            "WARNING:chromadb.segment.impl.vector.local_persistent_hnsw:Add of existing embedding ID: 5b6c2ad4-daaf-4fc2-89ec-09c4f3f2ebce\n",
            "WARNING:chromadb.segment.impl.vector.local_persistent_hnsw:Add of existing embedding ID: bfe5d388-1930-441b-8b21-63911d650f16\n",
            "WARNING:chromadb.segment.impl.vector.local_persistent_hnsw:Add of existing embedding ID: 997d145d-a805-4d3f-892f-e06b00cdc1a9\n",
            "WARNING:chromadb.segment.impl.vector.local_persistent_hnsw:Add of existing embedding ID: 857f7933-abad-4e89-96e1-54c11ef23a39\n",
            "WARNING:chromadb.segment.impl.vector.local_persistent_hnsw:Add of existing embedding ID: 5b5b862c-027f-41b1-a8ae-43a0d9112229\n",
            "WARNING:chromadb.segment.impl.vector.local_persistent_hnsw:Add of existing embedding ID: b607f244-4f6e-4277-965b-5d3c6e7c4966\n",
            "WARNING:chromadb.segment.impl.vector.local_persistent_hnsw:Add of existing embedding ID: 61faadd4-049e-466f-a073-bc1a105f554d\n",
            "WARNING:chromadb.segment.impl.vector.local_persistent_hnsw:Add of existing embedding ID: fdc18741-e6bb-486f-9948-dd9bc34625cc\n",
            "WARNING:chromadb.segment.impl.vector.local_persistent_hnsw:Add of existing embedding ID: 3cf9fd2e-7fee-4bbf-a9cf-24668bfbb3fd\n",
            "WARNING:chromadb.segment.impl.vector.local_persistent_hnsw:Add of existing embedding ID: b1cb0306-c700-4e19-a584-6013ea58ea88\n",
            "WARNING:chromadb.segment.impl.vector.local_persistent_hnsw:Add of existing embedding ID: bf120b29-e0d1-4c88-b15f-2ccd039bb20a\n",
            "WARNING:chromadb.segment.impl.vector.local_persistent_hnsw:Add of existing embedding ID: d524b6e3-1bb7-40b0-a1ee-af03fc1cc204\n",
            "WARNING:chromadb.segment.impl.vector.local_persistent_hnsw:Add of existing embedding ID: 743bb289-7882-4fa3-a367-ff153beb7485\n",
            "WARNING:chromadb.segment.impl.vector.local_persistent_hnsw:Add of existing embedding ID: 51109ea1-32fe-415f-ba35-275eafdec138\n",
            "WARNING:chromadb.segment.impl.vector.local_persistent_hnsw:Add of existing embedding ID: 7abcfe8b-02c9-479a-8a63-92ff00e0a80c\n"
          ]
        },
        {
          "output_type": "stream",
          "name": "stdout",
          "text": [
            "Using LLM: callback_manager=<llama_index.core.callbacks.base.CallbackManager object at 0x78218a991e40> system_prompt=None messages_to_prompt=<function messages_to_prompt at 0x782197071b40> completion_to_prompt=<function default_completion_to_prompt at 0x782196f877f0> output_parser=None pydantic_program_mode=<PydanticProgramMode.DEFAULT: 'default'> query_wrapper_prompt=None model='mistral-large-latest' temperature=0.1 max_tokens=512 timeout=120.0 max_retries=5 random_seed=None additional_kwargs={}\n"
          ]
        }
      ]
    },
    {
      "cell_type": "code",
      "source": [
        "response = llm.predict_and_call([vector_query_tool],\n",
        "                                \"Summarize the content in page number 2\",\n",
        "                                verbose=True)\n",
        "\n",
        "print(f\"Using LLM: {llm}\")"
      ],
      "metadata": {
        "colab": {
          "base_uri": "https://localhost:8080/"
        },
        "id": "NE3QJ8Ce3DLc",
        "outputId": "213e7dda-855d-49cc-ce5b-ab6361ca831d"
      },
      "execution_count": 31,
      "outputs": [
        {
          "output_type": "stream",
          "name": "stdout",
          "text": [
            "=== Calling Function ===\n",
            "Calling function: vector_tool_BERT_arxiv with args: {\"query\": \"Summarize the content in page number 2\", \"page_numbers\": [\"2\"]}\n",
            "=== Function Output ===\n",
            "The content on page 2 discusses the effectiveness of using reflection tokens for enhancing overall performance and customizing models during testing, such as balancing citation predictions and completeness. It also introduces the concept of Retrieval-Augmented Generation (RAG), which enhances language models by incorporating retrieved text passages, leading to significant improvements in tasks that require extensive knowledge. Additionally, it mentions a recent work that involves instruction-tuning a language model with a fixed number of examples.\n",
            "Using LLM: callback_manager=<llama_index.core.callbacks.base.CallbackManager object at 0x78218a991e40> system_prompt=None messages_to_prompt=<function messages_to_prompt at 0x782197071b40> completion_to_prompt=<function default_completion_to_prompt at 0x782196f877f0> output_parser=None pydantic_program_mode=<PydanticProgramMode.DEFAULT: 'default'> query_wrapper_prompt=None model='mistral-large-latest' temperature=0.1 max_tokens=512 timeout=120.0 max_retries=5 random_seed=None additional_kwargs={}\n"
          ]
        }
      ]
    },
    {
      "cell_type": "code",
      "source": [
        "def get_doc_tools(file_path:str,name:str)->str:\n",
        "  '''\n",
        "  get vector query and sumnmary query tools from a document\n",
        "  '''\n",
        "  #load documents\n",
        "  documents = SimpleDirectoryReader(input_files = [file_path]).load_data()\n",
        "  print(f\"length of nodes\")\n",
        "  splitter = SentenceSplitter(chunk_size=1024,chunk_overlap=100)\n",
        "  nodes = splitter.get_nodes_from_documents(documents)\n",
        "  print(f\"Length of nodes : {len(nodes)}\")\n",
        "  #instantiate Vectorstore\n",
        "  vector_index = VectorStoreIndex(nodes,storage_context=storage_context)\n",
        "  vector_index.storage_context.vector_store.persist(persist_path=\"/content/chroma_db\")\n",
        "  #\n",
        "  # Define Vectorstore Autoretrieval tool\n",
        "  def vector_query(query:str,page_numbers:Optional[List[str]]=None)->str:\n",
        "    '''\n",
        "    perform vector search over index on\n",
        "    query(str): query string needs to be embedded\n",
        "    page_numbers(List[str]): list of page numbers to be retrieved,\n",
        "                            leave blank if we want to perform a vector search over all pages\n",
        "    '''\n",
        "    page_numbers = page_numbers or []\n",
        "    metadata_dict = [{\"key\":'page_label',\"value\":p} for p in page_numbers]\n",
        "    #\n",
        "    query_engine = vector_index.as_query_engine(\n",
        "    similarity_top_k=2,\n",
        "    filters=MetadataFilters.from_dicts(metadata_dict, condition=FilterCondition.OR),\n",
        "    llm=llm\n",
        ")\n",
        "    #\n",
        "    response = query_engine.query(query)\n",
        "    return response\n",
        "  #\n",
        "  #llamiondex FunctionTool wraps any python function we feed it\n",
        "  vector_query_tool = FunctionTool.from_defaults(name=f\"vector_tool_{name}\",\n",
        "                                                fn=vector_query)\n",
        "  # Prepare Summary Tool\n",
        "  summary_index = SummaryIndex(nodes)\n",
        "  summary_query_engine = summary_index.as_query_engine(response_mode=\"tree_summarize\",\n",
        "                                                       se_async=True, llm = llm)\n",
        "  summary_query_tool = QueryEngineTool.from_defaults(name=f\"summary_tool_{name}\",\n",
        "                                                     query_engine=summary_query_engine,\n",
        "                                                    description=(\"Use ONLY IF you want to get a holistic summary of the documents.\"\n",
        "                                                \"DO NOT USE if you have specified questions over the documents.\"))\n",
        "  return vector_query_tool,summary_query_tool"
      ],
      "metadata": {
        "id": "b1bOzJCO4EtP"
      },
      "execution_count": 42,
      "outputs": []
    },
    {
      "cell_type": "code",
      "source": [
        "import os\n",
        "root_path = \"/content/data\"\n",
        "file_name = []\n",
        "file_path = []\n",
        "for files in os.listdir(root_path):\n",
        "  if files.endswith(\".pdf\"): # Use 'files' instead of 'file'\n",
        "    file_name.append(files.split(\".\")[0])\n",
        "    file_path.append(os.path.join(root_path,files)) # Use 'files' instead of 'file'\n",
        "\n",
        "print(file_name)\n",
        "print(file_path)"
      ],
      "metadata": {
        "colab": {
          "base_uri": "https://localhost:8080/"
        },
        "id": "42CZ0SBd4L05",
        "outputId": "3fb5760f-9e1f-4d7e-8cb2-ef88f73349f7"
      },
      "execution_count": 43,
      "outputs": [
        {
          "output_type": "stream",
          "name": "stdout",
          "text": [
            "['crag_arxiv', 'BERT_arxiv', 'self_rag_arxiv', 'RAG_arxiv']\n",
            "['/content/data/crag_arxiv.pdf', '/content/data/BERT_arxiv.pdf', '/content/data/self_rag_arxiv.pdf', '/content/data/RAG_arxiv.pdf']\n"
          ]
        }
      ]
    },
    {
      "cell_type": "code",
      "source": [
        "papers_to_tools_dict = {}\n",
        "for name,filename in zip(file_name,file_path):\n",
        "  vector_query_tool,summary_query_tool = get_doc_tools(filename,name)\n",
        "  papers_to_tools_dict[name] = [vector_query_tool,summary_query_tool]"
      ],
      "metadata": {
        "colab": {
          "base_uri": "https://localhost:8080/"
        },
        "id": "6_eTflk7_PeZ",
        "outputId": "68599080-97ed-4eeb-ce6f-d8c4d0c33d4d"
      },
      "execution_count": 44,
      "outputs": [
        {
          "output_type": "stream",
          "name": "stdout",
          "text": [
            "length of nodes\n",
            "Length of nodes : 22\n",
            "length of nodes\n",
            "Length of nodes : 28\n",
            "length of nodes\n",
            "Length of nodes : 43\n",
            "length of nodes\n",
            "Length of nodes : 30\n"
          ]
        }
      ]
    },
    {
      "cell_type": "code",
      "source": [
        "initial_tools = [t for f in file_name for t in papers_to_tools_dict[f]]\n",
        "initial_tools"
      ],
      "metadata": {
        "colab": {
          "base_uri": "https://localhost:8080/"
        },
        "id": "AcCs4RSt_ZYC",
        "outputId": "be05c56a-eae1-4471-c121-37b234faee78"
      },
      "execution_count": 45,
      "outputs": [
        {
          "output_type": "execute_result",
          "data": {
            "text/plain": [
              "[<llama_index.core.tools.function_tool.FunctionTool at 0x7821845fb700>,\n",
              " <llama_index.core.tools.query_engine.QueryEngineTool at 0x7821845fbca0>,\n",
              " <llama_index.core.tools.function_tool.FunctionTool at 0x7821843a85b0>,\n",
              " <llama_index.core.tools.query_engine.QueryEngineTool at 0x7821843ab8b0>,\n",
              " <llama_index.core.tools.function_tool.FunctionTool at 0x7821845d73a0>,\n",
              " <llama_index.core.tools.query_engine.QueryEngineTool at 0x7821853a3a00>,\n",
              " <llama_index.core.tools.function_tool.FunctionTool at 0x78216729e470>,\n",
              " <llama_index.core.tools.query_engine.QueryEngineTool at 0x78216661b8b0>]"
            ]
          },
          "metadata": {},
          "execution_count": 45
        }
      ]
    },
    {
      "cell_type": "code",
      "source": [
        "from llama_index.core import VectorStoreIndex\n",
        "from llama_index.core.objects import ObjectIndex\n",
        "#\n",
        "obj_index = ObjectIndex.from_objects(initial_tools,index_cls=VectorStoreIndex)\n",
        "#"
      ],
      "metadata": {
        "id": "UfQOOD5u_chC"
      },
      "execution_count": 46,
      "outputs": []
    },
    {
      "cell_type": "code",
      "source": [
        "obj_retriever = obj_index.as_retriever(similarity_top_k=2)\n",
        "tools = obj_retriever.retrieve(\"compare and contrast the papers self rag and corrective rag\")\n",
        "#\n",
        "print(tools[0].metadata)\n",
        "print(tools[1].metadata)"
      ],
      "metadata": {
        "colab": {
          "base_uri": "https://localhost:8080/"
        },
        "id": "pnpX0xe3_ful",
        "outputId": "21e49314-ca05-4471-815c-bf48bcedd437"
      },
      "execution_count": 47,
      "outputs": [
        {
          "output_type": "stream",
          "name": "stdout",
          "text": [
            "ToolMetadata(description='Use ONLY IF you want to get a holistic summary of the documents.DO NOT USE if you have specified questions over the documents.', name='summary_tool_self_rag_arxiv', fn_schema=<class 'llama_index.core.tools.types.DefaultToolFnSchema'>, return_direct=False)\n",
            "ToolMetadata(description='vector_tool_self_rag_arxiv(query: str, page_numbers: Optional[List[str]] = None) -> str\\n\\n    perform vector search over index on\\n    query(str): query string needs to be embedded\\n    page_numbers(List[str]): list of page numbers to be retrieved,\\n                            leave blank if we want to perform a vector search over all pages\\n    ', name='vector_tool_self_rag_arxiv', fn_schema=<class 'llama_index.core.tools.utils.vector_tool_self_rag_arxiv'>, return_direct=False)\n"
          ]
        }
      ]
    },
    {
      "cell_type": "code",
      "source": [
        "from llama_index.core.agent import FunctionCallingAgentWorker\n",
        "from llama_index.core.agent import AgentRunner\n",
        "#\n",
        "agent_worker = FunctionCallingAgentWorker.from_tools(tool_retriever=obj_retriever,\n",
        "                                                     llm=llm,\n",
        "                                                     system_prompt=\"\"\"You are an agent designed to answer queries over a set of given papers.\n",
        "                                                     Please always use the tools provided to answer a question.Do not rely on prior knowledge.\"\"\",\n",
        "                                                     verbose=True)\n",
        "agent = AgentRunner(agent_worker)"
      ],
      "metadata": {
        "id": "IoR3CQq__hha"
      },
      "execution_count": 48,
      "outputs": []
    },
    {
      "cell_type": "code",
      "source": [
        "response = agent.query(\"Compare and contrast self rag and crag.\")\n",
        "print(str(response))"
      ],
      "metadata": {
        "colab": {
          "base_uri": "https://localhost:8080/"
        },
        "id": "_Y697Hfr_kgG",
        "outputId": "7cc63145-1b63-4e09-c534-8811e2e73d64"
      },
      "execution_count": 49,
      "outputs": [
        {
          "output_type": "stream",
          "name": "stdout",
          "text": [
            "Added user message to memory: Compare and contrast self rag and crag.\n",
            "=== Calling Function ===\n",
            "Calling function: vector_tool_self_rag_arxiv with args: {\"query\": \"Compare and contrast self rag and crag.\"}\n",
            "=== Function Output ===\n",
            "Encountered error: API error occurred: Status 429\n",
            "{\"message\":\"Requests rate limit exceeded\"}\n",
            "=== Calling Function ===\n",
            "Calling function: vector_tool_self_rag_arxiv with args: {\"query\": \"Compare and contrast self rag and crag.\"}\n",
            "=== Function Output ===\n",
            "Self-RAG is an advanced retrieval-augmented generation (RAG) approach that incorporates a critic model to determine whether to retrieve information and which retrieved document to use for generation. It is designed to decide which action to trigger based on the retrieved information. On the other hand, CRAG is a plug-and-play approach that can be integrated into other frameworks, including Self-RAG. When CRAG is inserted into the Self-RAG framework, it replaces the retrieved items with processed internal knowledge for correct answers, external knowledge for incorrect answers, and combined knowledge for ambiguous cases. This integration creates a new model called Self-CRAG, which leverages the decision-making capabilities of Self-RAG while utilizing the specific knowledge processing of CRAG.\n",
            "=== LLM Response ===\n",
            "Self-RAG is an advanced retrieval-augmented generation (RAG) approach that incorporates a critic model to determine whether to retrieve information and which retrieved document to use for generation. It is designed to decide which action to trigger based on the retrieved information. On the other hand, CRAG is a plug-and-play approach that can be integrated into other frameworks, including Self-RAG. When CRAG is inserted into the Self-RAG framework, it replaces the retrieved items with processed internal knowledge for correct answers, external knowledge for incorrect answers, and combined knowledge for ambiguous cases. This integration creates a new model called Self-CRAG, which leverages the decision-making capabilities of Self-RAG while utilizing the specific knowledge processing of CRAG.\n",
            "Self-RAG is an advanced retrieval-augmented generation (RAG) approach that incorporates a critic model to determine whether to retrieve information and which retrieved document to use for generation. It is designed to decide which action to trigger based on the retrieved information. On the other hand, CRAG is a plug-and-play approach that can be integrated into other frameworks, including Self-RAG. When CRAG is inserted into the Self-RAG framework, it replaces the retrieved items with processed internal knowledge for correct answers, external knowledge for incorrect answers, and combined knowledge for ambiguous cases. This integration creates a new model called Self-CRAG, which leverages the decision-making capabilities of Self-RAG while utilizing the specific knowledge processing of CRAG.\n"
          ]
        }
      ]
    },
    {
      "cell_type": "code",
      "source": [
        "response = agent.query(\"Summarize the paper corrective RAG.\")\n",
        "print(str(response))\n"
      ],
      "metadata": {
        "colab": {
          "base_uri": "https://localhost:8080/"
        },
        "id": "x9LQYlAR_ttb",
        "outputId": "f1e731d5-a8ec-4f15-8cb7-eed8bd275f1c"
      },
      "execution_count": 50,
      "outputs": [
        {
          "output_type": "stream",
          "name": "stdout",
          "text": [
            "Added user message to memory: Summarize the paper corrective RAG.\n",
            "=== Calling Function ===\n",
            "Calling function: summary_tool_self_rag_arxiv with args: {\"input\": \"corrective RAG\"}\n",
            "=== Function Output ===\n",
            "The correct term is \"Retrieval-Augmented Generation\" (RAG).\n",
            "=== LLM Response ===\n",
            "The correct term is \"Retrieval-Augmented Generation\" (RAG).\n",
            "The correct term is \"Retrieval-Augmented Generation\" (RAG).\n"
          ]
        }
      ]
    },
    {
      "cell_type": "code",
      "source": [],
      "metadata": {
        "id": "6_kWhpzr_vrN"
      },
      "execution_count": null,
      "outputs": []
    }
  ]
}